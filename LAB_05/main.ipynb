{
 "cells": [
  {
   "cell_type": "markdown",
   "metadata": {},
   "source": [
    "# LAB 05: \n"
   ]
  },
  {
   "cell_type": "markdown",
   "metadata": {},
   "source": [
    "## Task 1: Implement Node Class\n",
    "\n",
    "Write class Node that has the following attributes:\n",
    "\n",
    "- state\n",
    "- parent\n",
    "- action\n",
    "- totalcost"
   ]
  },
  {
   "cell_type": "code",
   "execution_count": 1,
   "metadata": {},
   "outputs": [],
   "source": [
    "class Node:\n",
    "    def __init__(self, state, parent, actions, totalcost):\n",
    "        self.state = state\n",
    "        self.parent = parent\n",
    "        self.actions = actions\n",
    "        self.totalcost = totalcost"
   ]
  },
  {
   "cell_type": "markdown",
   "metadata": {},
   "source": [
    "## Task 2: Implemnet Graphs using Node Class\n",
    "\n",
    "Create different graphs using the Node class. Use dictionaries to store the graph nodes. The keys of the dictionaries are the names of the nodes and the values are the Node objects.\n"
   ]
  },
  {
   "cell_type": "code",
   "execution_count": 2,
   "metadata": {},
   "outputs": [],
   "source": [
    "romania = {\n",
    "    \"Arad\": Node(\"Arad\", None, [(\"Zerind\", 75), (\"Sibiu\", 140), (\"Timisoara\", 118)], 0),\n",
    "    \"Zerind\": Node(\"Zerind\", None, [(\"Arad\", 75), (\"Oradea\", 71)], 0),\n",
    "    \"Oradea\": Node(\"Oradea\", None, [(\"Zerind\", 71), (\"Sibiu\", 151)], 0),\n",
    "    \"Sibiu\": Node(\"Sibiu\", None, [(\"Arad\", 140), (\"Oradea\", 151), (\"Fagaras\", 99), (\"Rimnicu Vilcea\", 80)], 0),\n",
    "    \"Timisoara\": Node(\"Timisoara\", None, [(\"Arad\", 118), (\"Lugoj\", 111)], 0),\n",
    "    \"Lugoj\": Node(\"Lugoj\", None, [(\"Timisoara\", 111), (\"Mehadia\", 70)], 0),\n",
    "    \"Mehadia\": Node(\"Mehadia\", None, [(\"Lugoj\", 70), (\"Drobeta\", 75)], 0),\n",
    "    \"Drobeta\": Node(\"Drobeta\", None, [(\"Mehadia\", 75), (\"Craiova\", 120)], 0),\n",
    "    \"Craiova\": Node(\"Craiova\", None, [(\"Drobeta\", 120), (\"Rimnicu Vilcea\", 146), (\"Pitesti\", 138)], 0),\n",
    "    \"Rimnicu Vilcea\": Node(\"Rimnicu Vilcea\", None, [(\"Sibiu\", 80), (\"Craiova\", 146), (\"Pitesti\", 97)], 0),\n",
    "    \"Fagaras\": Node(\"Fagaras\", None, [(\"Sibiu\", 99), (\"Bucharest\", 211)], 0),\n",
    "    \"Pitesti\": Node(\"Pitesti\", None, [(\"Rimnicu Vilcea\", 97), (\"Craiova\", 138), (\"Bucharest\", 101)], 0),\n",
    "    \"Bucharest\": Node(\"Bucharest\", None, [(\"Fagaras\", 211), (\"Pitesti\", 101), (\"Giurgiu\", 90), (\"Urziceni\", 85)], 0),\n",
    "    \"Giurgiu\": Node(\"Giurgiu\", None, [(\"Bucharest\", 90)], 0),\n",
    "    \"Urziceni\": Node(\"Urziceni\", None, [(\"Bucharest\", 85), (\"Hirsova\", 98), (\"Vaslui\", 142)], 0),\n",
    "    \"Hirsova\": Node(\"Hirsova\", None, [(\"Urziceni\", 98), (\"Eforie\", 86)], 0),\n",
    "    \"Eforie\": Node(\"Eforie\", None, [(\"Hirsova\", 86)], 0),\n",
    "    \"Vaslui\": Node(\"Vaslui\", None, [(\"Urziceni\", 142), (\"Iasi\", 92)], 0),\n",
    "    \"Iasi\": Node(\"Iasi\", None, [(\"Vaslui\", 92), (\"Neamt\", 87)], 0),\n",
    "    \"Neamt\": Node(\"Neamt\", None, [(\"Iasi\", 87)], 0),\n",
    "}\n"
   ]
  },
  {
   "cell_type": "markdown",
   "metadata": {},
   "source": [
    "## Task 3: Implement Graph as Tree\n",
    "\n",
    "Write a function that takes a graph and a start node and returns the tree resulted from the graph search algorithm. The function should return the root node of the tree."
   ]
  },
  {
   "cell_type": "code",
   "execution_count": 3,
   "metadata": {},
   "outputs": [
    {
     "name": "stdout",
     "output_type": "stream",
     "text": [
      "Path: ['Arad', 'Sibiu', 'Rimnicu Vilcea', 'Pitesti', 'Bucharest']\n",
      "Total Cost: 418\n"
     ]
    }
   ],
   "source": [
    "from queue import PriorityQueue\n",
    "\n",
    "\n",
    "def uniform_cost_search(graph, start, goal):\n",
    "    visited = set()\n",
    "    queue = PriorityQueue()\n",
    "    queue.put((0, start))\n",
    "    parent = {}\n",
    "    cost_so_far = {start: 0}\n",
    "\n",
    "    while not queue.empty():\n",
    "        _, current = queue.get()\n",
    "\n",
    "        if current == goal:\n",
    "            break  # Goal node found, exit the loop\n",
    "\n",
    "        if current not in visited:\n",
    "            visited.add(current)\n",
    "\n",
    "            for neighbor, edge_cost in graph[current].actions:\n",
    "                new_cost = cost_so_far[current] + edge_cost\n",
    "\n",
    "                if neighbor not in cost_so_far or new_cost < cost_so_far[neighbor]:\n",
    "                    cost_so_far[neighbor] = new_cost\n",
    "                    priority = new_cost\n",
    "                    queue.put((priority, neighbor))\n",
    "                    parent[neighbor] = current\n",
    "\n",
    "    # Reconstruct the path from start to goal\n",
    "    path = []\n",
    "    while current != start:\n",
    "        path.append(current)\n",
    "        current = parent[current]\n",
    "    path.append(start)\n",
    "    path.reverse()\n",
    "\n",
    "    return path, cost_so_far[goal]\n",
    "\n",
    "\n",
    "# Usage example:\n",
    "start_node = \"Arad\"  # Replace with the desired start node\n",
    "goal_node = \"Bucharest\"  # Replace with the desired goal node\n",
    "\n",
    "# Run the uniform cost search (UCS)\n",
    "path, total_cost = uniform_cost_search(romania, start_node, goal_node)\n",
    "\n",
    "# Print the path and total cost\n",
    "print(\"Path:\", path)\n",
    "print(\"Total Cost:\", total_cost)"
   ]
  },
  {
   "cell_type": "code",
   "execution_count": 4,
   "metadata": {},
   "outputs": [
    {
     "name": "stdout",
     "output_type": "stream",
     "text": [
      "Arad\n",
      "├── Zerind\n",
      "│   └── Oradea\n",
      "├── Sibiu\n",
      "│   ├── Fagaras\n",
      "│   │   └── Bucharest\n",
      "│   │       ├── Giurgiu\n",
      "│   │       └── Urziceni\n",
      "│   │           ├── Hirsova\n",
      "│   │           │   └── Eforie\n",
      "│   │           └── Vaslui\n",
      "│   │               └── Iasi\n",
      "│   │                   └── Neamt\n",
      "│   └── Rimnicu Vilcea\n",
      "│       ├── Craiova\n",
      "│       │   └── Drobeta\n",
      "│       └── Pitesti\n",
      "└── Timisoara\n",
      "    └── Lugoj\n",
      "        └── Mehadia\n"
     ]
    }
   ],
   "source": [
    "from anytree import Node, RenderTree\n",
    "\n",
    "def BFS_tree_search(graph, start):\n",
    "    queue = [(start, None)]  # (node, parent)\n",
    "    visited = set()\n",
    "    search_tree = {start: None}  # Initialize with start node and no parent\n",
    "\n",
    "    while queue:\n",
    "        current, parent = queue.pop(0)\n",
    "\n",
    "        if current not in visited:\n",
    "            visited.add(current)\n",
    "\n",
    "            for neighbor, _ in graph[current].actions:\n",
    "                if neighbor not in visited:\n",
    "                    queue.append((neighbor, current))\n",
    "                    if neighbor not in search_tree:\n",
    "                        search_tree[neighbor] = current  # Set the parent of the neighbor\n",
    "\n",
    "    return search_tree\n",
    "\n",
    "# Usage example:\n",
    "start_node = \"Arad\"  # Replace with the desired start node\n",
    "\n",
    "# Run the BFS search and create the search tree\n",
    "search_tree = BFS_tree_search(romania, start_node)\n",
    "\n",
    "# Create the tree representation from the search tree\n",
    "def create_tree_representation(tree, current_node):\n",
    "    if current_node in tree:\n",
    "        node = Node(current_node)\n",
    "        for neighbor, parent in tree.items():\n",
    "            if parent == current_node:\n",
    "                child = create_tree_representation(tree, neighbor)\n",
    "                child.parent = node\n",
    "        return node\n",
    "\n",
    "# Create the tree representation\n",
    "tree_representation = create_tree_representation(search_tree, start_node)\n",
    "\n",
    "# Print the tree representation\n",
    "for pre, fill, node in RenderTree(tree_representation):\n",
    "    print(f\"{pre}{node.name}\")\n"
   ]
  }
 ],
 "metadata": {
  "kernelspec": {
   "display_name": "Python 3",
   "language": "python",
   "name": "python3"
  },
  "language_info": {
   "codemirror_mode": {
    "name": "ipython",
    "version": 3
   },
   "file_extension": ".py",
   "mimetype": "text/x-python",
   "name": "python",
   "nbconvert_exporter": "python",
   "pygments_lexer": "ipython3",
   "version": "3.11.5"
  },
  "orig_nbformat": 4
 },
 "nbformat": 4,
 "nbformat_minor": 2
}
