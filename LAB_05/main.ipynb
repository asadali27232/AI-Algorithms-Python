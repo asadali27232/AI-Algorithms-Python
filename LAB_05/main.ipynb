{
 "cells": [
  {
   "cell_type": "markdown",
   "metadata": {},
   "source": [
    "# LAB 05: \n"
   ]
  },
  {
   "cell_type": "markdown",
   "metadata": {},
   "source": [
    "## Task 1: Implement Node Class\n",
    "\n",
    "Write class Node that has the following attributes:\n",
    "\n",
    "- state\n",
    "- parent\n",
    "- action\n",
    "- totalcost"
   ]
  },
  {
   "cell_type": "code",
   "execution_count": 148,
   "metadata": {},
   "outputs": [],
   "source": [
    "class Node:\n",
    "    def init (self, state, parent, actions, totalCost, heuristic):\n",
    "        self.state = state\n",
    "        self.parent = parent\n",
    "        self.actions = actions\n",
    "        self.totalCost = totalCost\n",
    "        self.heuristic = heuristic"
   ]
  },
  {
   "cell_type": "markdown",
   "metadata": {},
   "source": [
    "## Task 2: Implemnet Graphs using Node Class\n",
    "\n",
    "Create different graphs using the Node class. Use dictionaries to store the graph nodes. The keys of the dictionaries are the names of the nodes and the values are the Node objects.\n"
   ]
  },
  {
   "cell_type": "code",
   "execution_count": 149,
   "metadata": {},
   "outputs": [],
   "source": [
    "romania = {\n",
    "    \"Arad\": Node(\"Arad\", None, [(\"Zerind\", 75), (\"Sibiu\", 140), (\"Timisoara\", 118)], 0),\n",
    "    \"Zerind\": Node(\"Zerind\", None, [(\"Arad\", 75), (\"Oradea\", 71)], 0),\n",
    "    \"Oradea\": Node(\"Oradea\", None, [(\"Zerind\", 71), (\"Sibiu\", 151)], 0),\n",
    "    \"Sibiu\": Node(\"Sibiu\", None, [(\"Arad\", 140), (\"Oradea\", 151), (\"Fagaras\", 99), (\"Rimnicu Vilcea\", 80)], 0),\n",
    "    \"Timisoara\": Node(\"Timisoara\", None, [(\"Arad\", 118), (\"Lugoj\", 111)], 0),\n",
    "    \"Lugoj\": Node(\"Lugoj\", None, [(\"Timisoara\", 111), (\"Mehadia\", 70)], 0),\n",
    "    \"Mehadia\": Node(\"Mehadia\", None, [(\"Lugoj\", 70), (\"Drobeta\", 75)], 0),\n",
    "    \"Drobeta\": Node(\"Drobeta\", None, [(\"Mehadia\", 75), (\"Craiova\", 120)], 0),\n",
    "    \"Craiova\": Node(\"Craiova\", None, [(\"Drobeta\", 120), (\"Rimnicu Vilcea\", 146), (\"Pitesti\", 138)], 0),\n",
    "    \"Rimnicu Vilcea\": Node(\"Rimnicu Vilcea\", None, [(\"Sibiu\", 80), (\"Craiova\", 146), (\"Pitesti\", 97)], 0),\n",
    "    \"Fagaras\": Node(\"Fagaras\", None, [(\"Sibiu\", 99), (\"Bucharest\", 211)], 0),\n",
    "    \"Pitesti\": Node(\"Pitesti\", None, [(\"Rimnicu Vilcea\", 97), (\"Craiova\", 138), (\"Bucharest\", 101)], 0),\n",
    "    \"Bucharest\": Node(\"Bucharest\", None, [(\"Fagaras\", 211), (\"Pitesti\", 101), (\"Giurgiu\", 90), (\"Urziceni\", 85)], 0),\n",
    "    \"Giurgiu\": Node(\"Giurgiu\", None, [(\"Bucharest\", 90)], 0),\n",
    "    \"Urziceni\": Node(\"Urziceni\", None, [(\"Bucharest\", 85), (\"Hirsova\", 98), (\"Vaslui\", 142)], 0),\n",
    "    \"Hirsova\": Node(\"Hirsova\", None, [(\"Urziceni\", 98), (\"Eforie\", 86)], 0),\n",
    "    \"Eforie\": Node(\"Eforie\", None, [(\"Hirsova\", 86)], 0),\n",
    "    \"Vaslui\": Node(\"Vaslui\", None, [(\"Urziceni\", 142), (\"Iasi\", 92)], 0),\n",
    "    \"Iasi\": Node(\"Iasi\", None, [(\"Vaslui\", 92), (\"Neamt\", 87)], 0),\n",
    "    \"Neamt\": Node(\"Neamt\", None, [(\"Iasi\", 87)], 0),\n",
    "}\n"
   ]
  },
  {
   "cell_type": "markdown",
   "metadata": {},
   "source": [
    "## Task 3: Implement Graph as Tree\n",
    "\n",
    "Write a function that takes a graph and a start node and returns the tree resulted from the graph search algorithm. The function should return the root node of the tree."
   ]
  },
  {
   "cell_type": "code",
   "execution_count": 150,
   "metadata": {},
   "outputs": [
    {
     "name": "stdout",
     "output_type": "stream",
     "text": [
      "Arad\n",
      "├── Zerind\n",
      "│   └── Oradea\n",
      "├── Sibiu\n",
      "│   ├── Fagaras\n",
      "│   │   └── Bucharest\n",
      "│   │       ├── Giurgiu\n",
      "│   │       └── Urziceni\n",
      "│   │           ├── Hirsova\n",
      "│   │           │   └── Eforie\n",
      "│   │           └── Vaslui\n",
      "│   │               └── Iasi\n",
      "│   │                   └── Neamt\n",
      "│   └── Rimnicu Vilcea\n",
      "│       ├── Craiova\n",
      "│       │   └── Drobeta\n",
      "│       └── Pitesti\n",
      "└── Timisoara\n",
      "    └── Lugoj\n",
      "        └── Mehadia\n"
     ]
    }
   ],
   "source": [
    "from anytree import Node, RenderTree\n",
    "\n",
    "def BFS_tree_search(graph, start):\n",
    "    queue = [(start, None)]  # (node, parent)\n",
    "    visited = set()\n",
    "    search_tree = {start: None}  # Initialize with start node and no parent\n",
    "\n",
    "    while queue:\n",
    "        current, parent = queue.pop(0)\n",
    "\n",
    "        if current not in visited:\n",
    "            visited.add(current)\n",
    "\n",
    "            for neighbor, _ in graph[current].actions:\n",
    "                if neighbor not in visited:\n",
    "                    queue.append((neighbor, current))\n",
    "                    if neighbor not in search_tree:\n",
    "                        search_tree[neighbor] = current  # Set the parent of the neighbor\n",
    "\n",
    "    return search_tree\n",
    "\n",
    "# Usage example:\n",
    "start_node = \"Arad\"  # Replace with the desired start node\n",
    "\n",
    "# Run the BFS search and create the search tree\n",
    "search_tree = BFS_tree_search(romania, start_node)\n",
    "\n",
    "# Create the tree representation from the search tree\n",
    "def create_tree_representation(tree, current_node):\n",
    "    if current_node in tree:\n",
    "        node = Node(current_node)\n",
    "        for neighbor, parent in tree.items():\n",
    "            if parent == current_node:\n",
    "                child = create_tree_representation(tree, neighbor)\n",
    "                child.parent = node\n",
    "        return node\n",
    "\n",
    "# Create the tree representation\n",
    "tree_representation = create_tree_representation(search_tree, start_node)\n",
    "\n",
    "# Print the tree representation\n",
    "for pre, fill, node in RenderTree(tree_representation):\n",
    "    print(f\"{pre}{node.name}\")\n"
   ]
  },
  {
   "cell_type": "markdown",
   "metadata": {},
   "source": [
    "## Task 4: UCS\n",
    "\n",
    "Write a function that takes a graph and a start node and returns the tree resulted from the graph search algorithm. The function should return the root node of the tree."
   ]
  },
  {
   "cell_type": "markdown",
   "metadata": {},
   "source": [
    "**Action Sequence Function:**\n",
    "\n",
    "Write a function that takes a node and returns the sequence of actions that leads to that node from a source node."
   ]
  },
  {
   "cell_type": "code",
   "execution_count": 151,
   "metadata": {},
   "outputs": [],
   "source": [
    "def actionSequence(graph, initialState, goalState):\n",
    "    solution = [goalState]\n",
    "    currentParent = graph[goalState].parent\n",
    "    cost = graph[goalState].totalCost\n",
    "    while currentParent != None:\n",
    "        solution.append(currentParent)\n",
    "        currentParent = graph[currentParent].parent\n",
    "    solution.reverse()\n",
    "    return solution, cost"
   ]
  },
  {
   "cell_type": "markdown",
   "metadata": {},
   "source": [
    "**Find Min from Queue:**\n",
    "\n",
    "Write a function that takes a queue and returns the node with the minimum total cost."
   ]
  },
  {
   "cell_type": "code",
   "execution_count": 152,
   "metadata": {},
   "outputs": [],
   "source": [
    "import math\n",
    "\n",
    "def findMin (frontier):\n",
    "    minV = math.inf\n",
    "    node = ' '\n",
    "    for i in frontier:\n",
    "        if minV > frontier[i][1]:\n",
    "            minV = frontier [i][1]\n",
    "            node = i\n",
    "    return node"
   ]
  },
  {
   "cell_type": "markdown",
   "metadata": {},
   "source": [
    "**UCS Function:**"
   ]
  },
  {
   "cell_type": "code",
   "execution_count": 153,
   "metadata": {},
   "outputs": [],
   "source": [
    "def UCS(graph, initialState, goalState):\n",
    "    frontier = dict()\n",
    "    frontier[initialState] = (None, 0)\n",
    "    explored = []\n",
    "\n",
    "    while len(frontier) != 0:\n",
    "        currentNode = findMin(frontier)\n",
    "        del frontier[currentNode]\n",
    "        \n",
    "        if graph[currentNode].state == goalState:\n",
    "            return actionSequence(graph, initialState, goalState)\n",
    "        explored.append(currentNode)\n",
    "\n",
    "        for child in graph[currentNode].actions:\n",
    "            currentCost = child[1] + graph[currentNode].totalCost\n",
    "            if child[0] not in frontier and child[0] not in explored:\n",
    "                graph[child[0]].parent = currentNode\n",
    "                graph[child[0]].totalCost = currentCost\n",
    "                frontier[child[0]] = (graph[child[0]].parent, graph[child[0]].totalCost)\n",
    "            elif child[0] in frontier:\n",
    "                if frontier [child[0]][1] < currentCost:\n",
    "                    graph[child[0]].parent = frontier[child[0]][0] \n",
    "                    graph[child[0]].totalCost = frontier[child[0]][1]\n",
    "                else:\n",
    "                    frontier[child[0]] = (currentNode, currentCost)\n",
    "                    graph[child[0]].parent = frontier [child[0]][0]\n",
    "                    graph[child[0]].totalCost = frontier [child[0]][1]"
   ]
  },
  {
   "cell_type": "markdown",
   "metadata": {},
   "source": [
    "## Task 5: Test UCS on Romania Map"
   ]
  },
  {
   "cell_type": "code",
   "execution_count": 155,
   "metadata": {},
   "outputs": [
    {
     "name": "stdout",
     "output_type": "stream",
     "text": [
      "Path: Arad -> Sibiu -> Rimnicu Vilcea -> Pitesti -> Bucharest\n",
      "Cost: 418\n"
     ]
    }
   ],
   "source": [
    "path, cost = UCS(romania, \"Arad\", \"Bucharest\")\n",
    "\n",
    "# Format the path for the output\n",
    "formatted_path = \"\"\n",
    "for i in range(len(path)):\n",
    "    formatted_path += path[i]\n",
    "    if i != len(path) - 1:\n",
    "        formatted_path += \" -> \"\n",
    "\n",
    "print(\"Path:\", formatted_path)\n",
    "print(\"Cost:\", cost)"
   ]
  }
 ],
 "metadata": {
  "kernelspec": {
   "display_name": "Python 3",
   "language": "python",
   "name": "python3"
  },
  "language_info": {
   "codemirror_mode": {
    "name": "ipython",
    "version": 3
   },
   "file_extension": ".py",
   "mimetype": "text/x-python",
   "name": "python",
   "nbconvert_exporter": "python",
   "pygments_lexer": "ipython3",
   "version": "3.11.5"
  },
  "orig_nbformat": 4
 },
 "nbformat": 4,
 "nbformat_minor": 2
}
