{
 "cells": [
  {
   "cell_type": "markdown",
   "metadata": {},
   "source": [
    "# LAB 04: \n"
   ]
  },
  {
   "cell_type": "markdown",
   "metadata": {},
   "source": [
    "## Task 1: Implement Node Class\n",
    "\n",
    "Write class Node that has the following attributes:\n",
    "\n",
    "- state\n",
    "- parent\n",
    "- action\n",
    "- path_cost\n"
   ]
  },
  {
   "cell_type": "code",
   "execution_count": 1,
   "metadata": {},
   "outputs": [],
   "source": [
    "class Node:\n",
    "    def __init__(self, state, parent, actions, totalcost):\n",
    "        self.state = state\n",
    "        self.parent = parent\n",
    "        self.actions = actions\n",
    "        self.totalcost = totalcost"
   ]
  },
  {
   "cell_type": "markdown",
   "metadata": {},
   "source": [
    "## Task 2: Implemnet Graphs using Node Class\n",
    "\n",
    "Create different graphs using the Node class. Use dictionaries to store the graph nodes. The keys of the dictionaries are the names of the nodes and the values are the Node objects.\n"
   ]
  },
  {
   "cell_type": "code",
   "execution_count": 8,
   "metadata": {},
   "outputs": [],
   "source": [
    "romania = {\n",
    "    \"Arad\": Node(\"Arad\", None, [(\"Zerind\", 75), (\"Sibiu\", 140), (\"Timisoara\", 118)], 0),\n",
    "    \"Zerind\": Node(\"Zerind\", None, [(\"Arad\", 75), (\"Oradea\", 71)], 0),\n",
    "    \"Oradea\": Node(\"Oradea\", None, [(\"Zerind\", 71), (\"Sibiu\", 151)], 0),\n",
    "    \"Sibiu\": Node(\"Sibiu\", None, [(\"Arad\", 140), (\"Oradea\", 151), (\"Fagaras\", 99), (\"Rimnicu Vilcea\", 80)], 0),\n",
    "    \"Timisoara\": Node(\"Timisoara\", None, [(\"Arad\", 118), (\"Lugoj\", 111)], 0),\n",
    "    \"Lugoj\": Node(\"Lugoj\", None, [(\"Timisoara\", 111), (\"Mehadia\", 70)], 0),\n",
    "    \"Mehadia\": Node(\"Mehadia\", None, [(\"Lugoj\", 70), (\"Drobeta\", 75)], 0),\n",
    "    \"Drobeta\": Node(\"Drobeta\", None, [(\"Mehadia\", 75), (\"Craiova\", 120)], 0),\n",
    "    \"Craiova\": Node(\"Craiova\", None, [(\"Drobeta\", 120), (\"Rimnicu Vilcea\", 146), (\"Pitesti\", 138)], 0),\n",
    "    \"Rimnicu Vilcea\": Node(\"Rimnicu Vilcea\", None, [(\"Sibiu\", 80), (\"Craiova\", 146), (\"Pitesti\", 97)], 0),\n",
    "    \"Fagaras\": Node(\"Fagaras\", None, [(\"Sibiu\", 99), (\"Bucharest\", 211)], 0),\n",
    "    \"Pitesti\": Node(\"Pitesti\", None, [(\"Rimnicu Vilcea\", 97), (\"Craiova\", 138), (\"Bucharest\", 101)], 0),\n",
    "    \"Bucharest\": Node(\"Bucharest\", None, [(\"Fagaras\", 211), (\"Pitesti\", 101), (\"Giurgiu\", 90), (\"Urziceni\", 85)], 0),\n",
    "    \"Giurgiu\": Node(\"Giurgiu\", None, [(\"Bucharest\", 90)], 0),\n",
    "    \"Urziceni\": Node(\"Urziceni\", None, [(\"Bucharest\", 85), (\"Hirsova\", 98), (\"Vaslui\", 142)], 0),\n",
    "    \"Hirsova\": Node(\"Hirsova\", None, [(\"Urziceni\", 98), (\"Eforie\", 86)], 0),\n",
    "    \"Eforie\": Node(\"Eforie\", None, [(\"Hirsova\", 86)], 0),\n",
    "    \"Vaslui\": Node(\"Vaslui\", None, [(\"Urziceni\", 142), (\"Iasi\", 92)], 0),\n",
    "    \"Iasi\": Node(\"Iasi\", None, [(\"Vaslui\", 92), (\"Neamt\", 87)], 0),\n",
    "    \"Neamt\": Node(\"Neamt\", None, [(\"Iasi\", 87)], 0),\n",
    "}\n"
   ]
  },
  {
   "cell_type": "markdown",
   "metadata": {},
   "source": [
    "## Task 3: Implement Graph as Tree\n",
    "\n",
    "Write a function that takes a graph and a start node and returns the tree resulted from the graph search algorithm. The function should return the root node of the tree."
   ]
  },
  {
   "cell_type": "code",
   "execution_count": 21,
   "metadata": {},
   "outputs": [
    {
     "name": "stdout",
     "output_type": "stream",
     "text": [
      "Arad: [(None, 0)]\n",
      "Zerind: [('Arad', 75)]\n",
      "Sibiu: [('Arad', 140)]\n",
      "Timisoara: [('Arad', 118)]\n",
      "Oradea: [('Zerind', 71)]\n",
      "Fagaras: [('Sibiu', 99)]\n",
      "Rimnicu Vilcea: [('Sibiu', 80)]\n",
      "Lugoj: [('Timisoara', 111)]\n",
      "Bucharest: [('Fagaras', 211)]\n",
      "Craiova: [('Rimnicu Vilcea', 146)]\n",
      "Pitesti: [('Rimnicu Vilcea', 97)]\n",
      "Mehadia: [('Lugoj', 70)]\n",
      "Giurgiu: [('Bucharest', 90)]\n",
      "Urziceni: [('Bucharest', 85)]\n",
      "Drobeta: [('Craiova', 120)]\n",
      "Hirsova: [('Urziceni', 98)]\n",
      "Vaslui: [('Urziceni', 142)]\n",
      "Eforie: [('Hirsova', 86)]\n",
      "Iasi: [('Vaslui', 92)]\n",
      "Neamt: [('Iasi', 87)]\n"
     ]
    }
   ],
   "source": [
    "from collections import deque\n",
    "\n",
    "def BFS_tree(graph, start):\n",
    "    queue = deque([(start, None, 0)])  # (node, parent, cost)\n",
    "    visited = set()\n",
    "    bfs_tree = {start: [(None, 0)]}  # Initialize with Arad and cost 0\n",
    "\n",
    "    while queue:\n",
    "        current, parent, cost = queue.popleft()\n",
    "\n",
    "        if current not in visited:\n",
    "            visited.add(current)\n",
    "            if parent is not None:\n",
    "                if current not in bfs_tree:\n",
    "                    bfs_tree[current] = []\n",
    "                bfs_tree[current].append((parent, cost))\n",
    "            \n",
    "            for neighbor, edge_cost in graph[current].actions:\n",
    "                if neighbor not in visited:\n",
    "                    queue.append((neighbor, current, edge_cost))\n",
    "\n",
    "    return bfs_tree\n",
    "\n",
    "# Usage example:\n",
    "start_node = \"Arad\"  # Replace with the desired start node\n",
    "\n",
    "bfs_tree = BFS_tree(romania, start_node)\n",
    "\n",
    "# Print the BFS tree\n",
    "for node, neighbors in bfs_tree.items():\n",
    "    print(f\"{node}: {neighbors}\")\n"
   ]
  },
  {
   "cell_type": "code",
   "execution_count": 25,
   "metadata": {},
   "outputs": [
    {
     "name": "stdout",
     "output_type": "stream",
     "text": [
      "Arad\n",
      "├── Zerind\n",
      "│   └── Oradea\n",
      "├── Sibiu\n",
      "│   ├── Fagaras\n",
      "│   │   └── Bucharest\n",
      "│   └── Rimnicu Vilcea\n",
      "│       ├── Craiova\n",
      "│       └── Pitesti\n",
      "└── Timisoara\n",
      "    └── Lugoj\n",
      "        └── Mehadia\n"
     ]
    }
   ],
   "source": [
    "from anytree import Node, RenderTree\n",
    "\n",
    "def BFS_tree_search(graph, start, goal):\n",
    "    queue = [(start, None)]  # (node, parent)\n",
    "    visited = set()\n",
    "    search_tree = {start: None}  # Initialize with start node and no parent\n",
    "\n",
    "    while queue:\n",
    "        current, parent = queue.pop(0)\n",
    "\n",
    "        if current == goal:\n",
    "            break  # Goal node found, exit the loop\n",
    "\n",
    "        if current not in visited:\n",
    "            visited.add(current)\n",
    "            \n",
    "            for neighbor, _ in graph[current].actions:\n",
    "                if neighbor not in visited:\n",
    "                    queue.append((neighbor, current))\n",
    "                    if neighbor not in search_tree:\n",
    "                        search_tree[neighbor] = current  # Set the parent of the neighbor\n",
    "\n",
    "    return search_tree\n",
    "\n",
    "# Usage example:\n",
    "start_node = \"Arad\"  # Replace with the desired start node\n",
    "goal_node = \"Bucharest\"  # Replace with the desired goal node\n",
    "\n",
    "# Run the BFS search and create the search tree\n",
    "search_tree = BFS_tree_search(romania, start_node, goal_node)\n",
    "\n",
    "# Create the tree representation from the search tree\n",
    "def create_tree_representation(tree, current_node):\n",
    "    if current_node in tree:\n",
    "        node = Node(current_node)\n",
    "        for neighbor, parent in tree.items():\n",
    "            if parent == current_node:\n",
    "                child = create_tree_representation(tree, neighbor)\n",
    "                child.parent = node\n",
    "        return node\n",
    "\n",
    "# Create the tree representation\n",
    "tree_representation = create_tree_representation(search_tree, start_node)\n",
    "\n",
    "# Print the tree representation\n",
    "for pre, fill, node in RenderTree(tree_representation):\n",
    "    print(f\"{pre}{node.name}\")\n"
   ]
  }
 ],
 "metadata": {
  "kernelspec": {
   "display_name": "Python 3",
   "language": "python",
   "name": "python3"
  },
  "language_info": {
   "codemirror_mode": {
    "name": "ipython",
    "version": 3
   },
   "file_extension": ".py",
   "mimetype": "text/x-python",
   "name": "python",
   "nbconvert_exporter": "python",
   "pygments_lexer": "ipython3",
   "version": "3.11.5"
  },
  "orig_nbformat": 4
 },
 "nbformat": 4,
 "nbformat_minor": 2
}
