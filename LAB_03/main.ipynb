{
 "cells": [
  {
   "cell_type": "markdown",
   "metadata": {},
   "source": [
    "# LAB 03: Robotic Arm Course\n"
   ]
  },
  {
   "cell_type": "markdown",
   "metadata": {},
   "source": [
    "## Task: Complte the Course\n",
    "\n",
    "You are required to take basic online training on robotics from following official website of Universal\n",
    "Robot.\n",
    "[Here](https://academy.universal-robots.com/free-e-learning/)\n"
   ]
  },
  {
   "cell_type": "markdown",
   "metadata": {},
   "source": [
    "## Completed\n",
    "\n",
    "![Image](./SP21-BCS-007.jpg)\n"
   ]
  }
 ],
 "metadata": {
  "language_info": {
   "name": "python"
  },
  "orig_nbformat": 4
 },
 "nbformat": 4,
 "nbformat_minor": 2
}
