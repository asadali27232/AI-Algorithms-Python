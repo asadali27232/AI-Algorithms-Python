{
 "cells": [
  {
   "cell_type": "markdown",
   "metadata": {},
   "source": [
    "# LAB 06:\n"
   ]
  },
  {
   "cell_type": "markdown",
   "metadata": {},
   "source": [
    "## Task 1: Implement Node Class\n",
    "\n",
    "Write class Node that has the following attributes:\n",
    "\n",
    "- state\n",
    "- parent\n",
    "- action\n",
    "- totalcost\n",
    "- huristic\n"
   ]
  },
  {
   "cell_type": "code",
   "execution_count": 46,
   "metadata": {},
   "outputs": [],
   "source": [
    "class Node:\n",
    "    def __init__(self, state, parent, actions, heuristic, totalCost):\n",
    "        self.state = state\n",
    "        self.parent = parent\n",
    "        self.actions = actions\n",
    "        self.totalCost = totalCost\n",
    "        self.heuristic = heuristic"
   ]
  },
  {
   "cell_type": "markdown",
   "metadata": {},
   "source": [
    "## Task 2: Implemnet Graphs using Node Class\n",
    "\n",
    "Create different graphs using the Node class. Use dictionaries to store the graph nodes. The keys of the dictionaries are the names of the nodes and the values are the Node objects.\n"
   ]
  },
  {
   "cell_type": "code",
   "execution_count": 47,
   "metadata": {},
   "outputs": [],
   "source": [
    "graph = {\n",
    "    'A': Node('A', None, [('F', 1)], (0, 0), 0),\n",
    "    'B': Node('B', None, [('G', 1), ('C', 1)], (2, 0), 0),\n",
    "    'C': Node('C', None, [('B', 1), ('D', 1)], (3, 0), 0),\n",
    "    'D': Node('D', None, [('C', 1), ('E', 1)], (4, 0), 0),\n",
    "    'E': Node('E', None, [('D', 1)], (5, 0), 0),\n",
    "    'F': Node('F', None, [('A', 1), ('H', 1)], (0, 1), 0),\n",
    "    'G': Node('G', None, [('B', 1), ('J', 1)], (2, 1), 0),\n",
    "    'H': Node('H', None, [('F', 1), ('I', 1), ('M', 1)], (0, 2), 0),\n",
    "    'I': Node('I', None, [('H', 1), ('J', 1), ('N', 1)], (1, 2), 0),\n",
    "    'J': Node('J', None, [('G', 1), ('I', 1)], (2, 2), 0),\n",
    "    'K': Node('K', None, [('L', 1), ('P', 1)], (4, 2), 0),\n",
    "    'L': Node('L', None, [('K', 1), ('Q', 1)], (5, 2), 0),\n",
    "    'M': Node('M', None, [('H', 1), ('N', 1), ('R', 1)], (0, 3), 0),\n",
    "    'N': Node('N', None, [('I', 1), ('M', 1), ('S', 1)], (1, 3), 0),\n",
    "    'O': Node('O', None, [('P', 1), ('U', 1)], (3, 3), 0),\n",
    "    'P': Node('P', None, [('O', 1), ('Q', 1)], (4, 3), 0),\n",
    "    'Q': Node('Q', None, [('L', 1), ('P', 1), ('V', 1)], (5, 3), 0),\n",
    "    'R': Node('R', None, [('M', 1), ('S', 1)], (0, 4), 0),\n",
    "    'S': Node('S', None, [('N', 1), ('R', 1), ('T', 1)], (1, 4), 0),\n",
    "    'T': Node('T', None, [('S', 1), ('U', 1), ('W', 1)], (2, 4), 0),\n",
    "    'U': Node('U', None, [('O', 1), ('T', 1)], (3, 4), 0),\n",
    "    'V': Node('V', None, [('Q', 1), ('Y', 1)], (5, 4), 0),\n",
    "    'W': Node('W', None, [('T', 1)], (2, 5), 0),\n",
    "    'X': Node('X', None, [('Y', 1)], (4, 5), 0),\n",
    "    'Y': Node('Y', None, [('V', 1), ('X', 1)], (5, 5), 0)\n",
    "}"
   ]
  },
  {
   "cell_type": "markdown",
   "metadata": {},
   "source": [
    "## Task 3: A* Search\n",
    "\n",
    "Write a function that takes a graph and a start node and returns the tree resulted from the graph search algorithm. The function should return the root node of the tree."
   ]
  },
  {
   "cell_type": "markdown",
   "metadata": {},
   "source": [
    "**Action Sequence Function:**\n",
    "\n",
    "Write a function that takes a node and returns the sequence of actions that leads to that node from a source node."
   ]
  },
  {
   "cell_type": "code",
   "execution_count": 48,
   "metadata": {},
   "outputs": [],
   "source": [
    "def actionSequence(graph, initialState, goalState):\n",
    "    solution = [goalState]\n",
    "    currentParent = graph[goalState].parent\n",
    "    cost = graph[goalState].totalCost\n",
    "    while currentParent != None:\n",
    "        solution.append(currentParent)\n",
    "        currentParent = graph[currentParent].parent\n",
    "    solution.reverse()\n",
    "    return solution, cost"
   ]
  },
  {
   "cell_type": "markdown",
   "metadata": {},
   "source": [
    "**Find Min from Queue:**\n",
    "\n",
    "Write a function that takes a queue and returns the node with the minimum total cost."
   ]
  },
  {
   "cell_type": "code",
   "execution_count": 49,
   "metadata": {},
   "outputs": [],
   "source": [
    "import math\n",
    "\n",
    "def findMin (frontier):\n",
    "    minV = math.inf\n",
    "    node = ' '\n",
    "    for i in frontier:\n",
    "        if minV > frontier[i][1]:\n",
    "            minV = frontier [i][1]\n",
    "            node = i\n",
    "    return node"
   ]
  },
  {
   "cell_type": "markdown",
   "metadata": {},
   "source": [
    "**Euclidean Distance:**\n",
    "\n",
    "Euclidean distance, also known as L2 distance or Euclidean norm, is a measure of the straight-line distance between two points in Euclidean space.\n",
    "\n",
    "**Formula:**\n",
    "Euclidean Distance = √((x2 - x1)^2 + (y2 - y1)^2)"
   ]
  },
  {
   "cell_type": "code",
   "execution_count": 50,
   "metadata": {},
   "outputs": [],
   "source": [
    "def euclidean_distance(p1, p2):\n",
    "    return math.sqrt(((p2[0] - p1[0]) ** 2 + (p2[1] - p1[1]) ** 2))"
   ]
  },
  {
   "cell_type": "markdown",
   "metadata": {},
   "source": [
    "**A\\* Search Algorithm:**\n",
    "\n",
    "Write a function that takes a graph and a start node and returns the tree resulted from the A* search algorithm. The function should return the root node of the tree."
   ]
  },
  {
   "cell_type": "code",
   "execution_count": 51,
   "metadata": {},
   "outputs": [],
   "source": [
    "def a_star(graph, initialState, goalState):\n",
    "    frontier = dict()\n",
    "    explored = dict()\n",
    "\n",
    "    heuristicCost = math.sqrt(((graph[goalState].heuristic[0] - graph[initialState].heuristic[0]) ** 2) + ((graph[goalState].heuristic[1] - graph[initialState].heuristic[1]) ** 2))\n",
    "\n",
    "    frontier[initialState] = (None, heuristicCost)\n",
    "\n",
    "    while len(frontier) != 0:\n",
    "        currentNode = findMin(frontier)\n",
    "        del frontier[currentNode]\n",
    "        \n",
    "        if graph[currentNode].state == goalState:\n",
    "            return actionSequence(graph, initialState, goalState)\n",
    "        \n",
    "        heuristicCost = math.sqrt(((graph[goalState].heuristic[0] - graph[currentNode].heuristic[0]) ** 2) + ((graph[goalState].heuristic[1] - graph[currentNode].heuristic[1]) ** 2))\n",
    "        \n",
    "        currentCost = graph[currentNode].totalCost\n",
    "        explored[currentNode] = (graph[currentNode].parent, heuristicCost + currentCost)\n",
    "\n",
    "        for child in graph[currentNode].actions:\n",
    "            currentCost = child[1] + graph[currentNode].totalCost\n",
    "            heuristicCost = math.sqrt(((graph[goalState].heuristic[0] - graph[child[0]].heuristic[0]) ** 2) + ((graph[goalState].heuristic[1] - graph[child[0]].heuristic[1]) ** 2))\n",
    "\n",
    "            if child[0] in explored:\n",
    "                if graph[child[0]].parent == currentNode or child[0] == initialState or explored[child[0]][1] <= currentCost + heuristicCost:\n",
    "                    continue\n",
    "                    \n",
    "            if child[0] not in frontier:\n",
    "                graph[child[0]].parent = currentNode\n",
    "                graph[child[0]].totalCost = currentCost + heuristicCost\n",
    "                frontier[child[0]] = (graph[child[0]].parent, currentCost + heuristicCost)\n",
    "            else:\n",
    "                if frontier[child[0]][1] < currentCost + heuristicCost:\n",
    "                    graph[child[0]].parent = frontier[child[0]][0]\n",
    "                    graph[child[0]].totalCost = frontier[child[0]][1] - heuristicCost\n",
    "                else:\n",
    "                    frontier[child[0]] = (currentNode, currentCost + heuristicCost)\n",
    "                    graph[child[0]].parent = frontier[child[0]][0]\n",
    "                    graph[child[0]].totalCost = currentCost\n",
    "\n",
    "    return None"
   ]
  },
  {
   "cell_type": "markdown",
   "metadata": {},
   "source": [
    "## Task 3: Test A* Search\n",
    "\n",
    "Test your A* search algorithm using the above graphs."
   ]
  },
  {
   "cell_type": "code",
   "execution_count": 52,
   "metadata": {},
   "outputs": [
    {
     "name": "stdout",
     "output_type": "stream",
     "text": [
      "(['A', 'F', 'H', 'M', 'R', 'S', 'T', 'U', 'O', 'P', 'Q', 'V', 'Y'], 43.65774483764157)\n"
     ]
    }
   ],
   "source": [
    "print(a_star(graph, \"A\", \"Y\"))"
   ]
  }
 ],
 "metadata": {
  "kernelspec": {
   "display_name": "Python 3",
   "language": "python",
   "name": "python3"
  },
  "language_info": {
   "codemirror_mode": {
    "name": "ipython",
    "version": 3
   },
   "file_extension": ".py",
   "mimetype": "text/x-python",
   "name": "python",
   "nbconvert_exporter": "python",
   "pygments_lexer": "ipython3",
   "version": "3.11.5"
  },
  "orig_nbformat": 4
 },
 "nbformat": 4,
 "nbformat_minor": 2
}
