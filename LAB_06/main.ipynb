{
 "cells": [
  {
   "cell_type": "markdown",
   "metadata": {},
   "source": [
    "# LAB 06:\n"
   ]
  },
  {
   "cell_type": "markdown",
   "metadata": {},
   "source": [
    "## Task 1: Implement Node Class\n",
    "\n",
    "Write class Node that has the following attributes:\n",
    "\n",
    "- state\n",
    "- parent\n",
    "- action\n",
    "- totalcost\n",
    "- huristic\n"
   ]
  },
  {
   "cell_type": "code",
   "execution_count": 4,
   "metadata": {},
   "outputs": [],
   "source": [
    "class Node:\n",
    "    def _init__(self, state, parent, actions, totalCost, heuristic):\n",
    "        self.state = state\n",
    "        self.parent = parent\n",
    "        self.actions = actions\n",
    "        self.totalCost = totalCost\n",
    "        self.heuristic = heuristic"
   ]
  },
  {
   "cell_type": "markdown",
   "metadata": {},
   "source": [
    "## Task 2: Implemnet Graphs using Node Class\n",
    "\n",
    "Create different graphs using the Node class. Use dictionaries to store the graph nodes. The keys of the dictionaries are the names of the nodes and the values are the Node objects.\n"
   ]
  },
  {
   "cell_type": "code",
   "execution_count": 5,
   "metadata": {},
   "outputs": [
    {
     "ename": "TypeError",
     "evalue": "Node() takes no arguments",
     "output_type": "error",
     "traceback": [
      "\u001b[1;31m---------------------------------------------------------------------------\u001b[0m",
      "\u001b[1;31mTypeError\u001b[0m                                 Traceback (most recent call last)",
      "\u001b[1;32mc:\\Users\\LENOVO\\Repos\\AI-Algorithms-Python\\LAB_06\\main.ipynb Cell 5\u001b[0m line \u001b[0;36m2\n\u001b[0;32m      <a href='vscode-notebook-cell:/c%3A/Users/LENOVO/Repos/AI-Algorithms-Python/LAB_06/main.ipynb#W4sZmlsZQ%3D%3D?line=0'>1</a>\u001b[0m graph \u001b[39m=\u001b[39m {\n\u001b[1;32m----> <a href='vscode-notebook-cell:/c%3A/Users/LENOVO/Repos/AI-Algorithms-Python/LAB_06/main.ipynb#W4sZmlsZQ%3D%3D?line=1'>2</a>\u001b[0m     \u001b[39m\"\u001b[39m\u001b[39mA\u001b[39m\u001b[39m\"\u001b[39m: Node(\u001b[39m\"\u001b[39;49m\u001b[39mA\u001b[39;49m\u001b[39m\"\u001b[39;49m, \u001b[39mNone\u001b[39;49;00m, [(\u001b[39m\"\u001b[39;49m\u001b[39mF\u001b[39;49m\u001b[39m\"\u001b[39;49m, \u001b[39m1\u001b[39;49m)], (\u001b[39m0\u001b[39;49m, \u001b[39m0\u001b[39;49m), \u001b[39m0\u001b[39;49m),\n\u001b[0;32m      <a href='vscode-notebook-cell:/c%3A/Users/LENOVO/Repos/AI-Algorithms-Python/LAB_06/main.ipynb#W4sZmlsZQ%3D%3D?line=2'>3</a>\u001b[0m     \u001b[39m\"\u001b[39m\u001b[39mB\u001b[39m\u001b[39m\"\u001b[39m: Node(\u001b[39m\"\u001b[39m\u001b[39mB\u001b[39m\u001b[39m\"\u001b[39m, \u001b[39mNone\u001b[39;00m, [(\u001b[39m\"\u001b[39m\u001b[39mC\u001b[39m\u001b[39m\"\u001b[39m, \u001b[39m1\u001b[39m), (\u001b[39m\"\u001b[39m\u001b[39mG\u001b[39m\u001b[39m\"\u001b[39m, \u001b[39m1\u001b[39m)], (\u001b[39m0\u001b[39m, \u001b[39m2\u001b[39m), \u001b[39m0\u001b[39m),\n\u001b[0;32m      <a href='vscode-notebook-cell:/c%3A/Users/LENOVO/Repos/AI-Algorithms-Python/LAB_06/main.ipynb#W4sZmlsZQ%3D%3D?line=3'>4</a>\u001b[0m     \u001b[39m\"\u001b[39m\u001b[39mC\u001b[39m\u001b[39m\"\u001b[39m: Node(\u001b[39m\"\u001b[39m\u001b[39mC\u001b[39m\u001b[39m\"\u001b[39m, \u001b[39mNone\u001b[39;00m, [(\u001b[39m\"\u001b[39m\u001b[39mB\u001b[39m\u001b[39m\"\u001b[39m, \u001b[39m1\u001b[39m), (\u001b[39m\"\u001b[39m\u001b[39mD\u001b[39m\u001b[39m\"\u001b[39m, \u001b[39m1\u001b[39m)], (\u001b[39m0\u001b[39m, \u001b[39m3\u001b[39m), \u001b[39m0\u001b[39m),\n\u001b[0;32m      <a href='vscode-notebook-cell:/c%3A/Users/LENOVO/Repos/AI-Algorithms-Python/LAB_06/main.ipynb#W4sZmlsZQ%3D%3D?line=4'>5</a>\u001b[0m     \u001b[39m\"\u001b[39m\u001b[39mD\u001b[39m\u001b[39m\"\u001b[39m: Node(\u001b[39m\"\u001b[39m\u001b[39mD\u001b[39m\u001b[39m\"\u001b[39m, \u001b[39mNone\u001b[39;00m, [(\u001b[39m\"\u001b[39m\u001b[39mC\u001b[39m\u001b[39m\"\u001b[39m, \u001b[39m1\u001b[39m), (\u001b[39m\"\u001b[39m\u001b[39mE\u001b[39m\u001b[39m\"\u001b[39m, \u001b[39m1\u001b[39m)], (\u001b[39m0\u001b[39m, \u001b[39m4\u001b[39m), \u001b[39m0\u001b[39m),\n\u001b[0;32m      <a href='vscode-notebook-cell:/c%3A/Users/LENOVO/Repos/AI-Algorithms-Python/LAB_06/main.ipynb#W4sZmlsZQ%3D%3D?line=5'>6</a>\u001b[0m     \u001b[39m\"\u001b[39m\u001b[39mE\u001b[39m\u001b[39m\"\u001b[39m: Node(\u001b[39m\"\u001b[39m\u001b[39mE\u001b[39m\u001b[39m\"\u001b[39m, \u001b[39mNone\u001b[39;00m, [(\u001b[39m\"\u001b[39m\u001b[39mD\u001b[39m\u001b[39m\"\u001b[39m, \u001b[39m1\u001b[39m)], (\u001b[39m0\u001b[39m, \u001b[39m5\u001b[39m), \u001b[39m0\u001b[39m),\n\u001b[0;32m      <a href='vscode-notebook-cell:/c%3A/Users/LENOVO/Repos/AI-Algorithms-Python/LAB_06/main.ipynb#W4sZmlsZQ%3D%3D?line=6'>7</a>\u001b[0m     \u001b[39m\"\u001b[39m\u001b[39mF\u001b[39m\u001b[39m\"\u001b[39m: Node(\u001b[39m\"\u001b[39m\u001b[39mF\u001b[39m\u001b[39m\"\u001b[39m, \u001b[39mNone\u001b[39;00m, [(\u001b[39m\"\u001b[39m\u001b[39mA\u001b[39m\u001b[39m\"\u001b[39m, \u001b[39m1\u001b[39m), (\u001b[39m\"\u001b[39m\u001b[39mH\u001b[39m\u001b[39m\"\u001b[39m, \u001b[39m1\u001b[39m)], (\u001b[39m1\u001b[39m, \u001b[39m0\u001b[39m), \u001b[39m0\u001b[39m),\n\u001b[0;32m      <a href='vscode-notebook-cell:/c%3A/Users/LENOVO/Repos/AI-Algorithms-Python/LAB_06/main.ipynb#W4sZmlsZQ%3D%3D?line=7'>8</a>\u001b[0m     \u001b[39m\"\u001b[39m\u001b[39mG\u001b[39m\u001b[39m\"\u001b[39m: Node(\u001b[39m\"\u001b[39m\u001b[39mG\u001b[39m\u001b[39m\"\u001b[39m, \u001b[39mNone\u001b[39;00m, [(\u001b[39m\"\u001b[39m\u001b[39mB\u001b[39m\u001b[39m\"\u001b[39m, \u001b[39m1\u001b[39m), (\u001b[39m\"\u001b[39m\u001b[39mJ\u001b[39m\u001b[39m\"\u001b[39m, \u001b[39m1\u001b[39m)], (\u001b[39m1\u001b[39m, \u001b[39m2\u001b[39m), \u001b[39m0\u001b[39m),\n\u001b[0;32m      <a href='vscode-notebook-cell:/c%3A/Users/LENOVO/Repos/AI-Algorithms-Python/LAB_06/main.ipynb#W4sZmlsZQ%3D%3D?line=8'>9</a>\u001b[0m     \u001b[39m\"\u001b[39m\u001b[39mH\u001b[39m\u001b[39m\"\u001b[39m: Node(\u001b[39m\"\u001b[39m\u001b[39mH\u001b[39m\u001b[39m\"\u001b[39m, \u001b[39mNone\u001b[39;00m, [(\u001b[39m\"\u001b[39m\u001b[39mF\u001b[39m\u001b[39m\"\u001b[39m, \u001b[39m1\u001b[39m), (\u001b[39m\"\u001b[39m\u001b[39mI\u001b[39m\u001b[39m\"\u001b[39m, \u001b[39m1\u001b[39m), (\u001b[39m\"\u001b[39m\u001b[39mM\u001b[39m\u001b[39m\"\u001b[39m, \u001b[39m1\u001b[39m)], (\u001b[39m2\u001b[39m, \u001b[39m0\u001b[39m), \u001b[39m0\u001b[39m),\n\u001b[0;32m     <a href='vscode-notebook-cell:/c%3A/Users/LENOVO/Repos/AI-Algorithms-Python/LAB_06/main.ipynb#W4sZmlsZQ%3D%3D?line=9'>10</a>\u001b[0m     \u001b[39m\"\u001b[39m\u001b[39mI\u001b[39m\u001b[39m\"\u001b[39m: Node(\u001b[39m\"\u001b[39m\u001b[39mI\u001b[39m\u001b[39m\"\u001b[39m, \u001b[39mNone\u001b[39;00m, [(\u001b[39m\"\u001b[39m\u001b[39mN\u001b[39m\u001b[39m\"\u001b[39m, \u001b[39m1\u001b[39m), (\u001b[39m\"\u001b[39m\u001b[39mJ\u001b[39m\u001b[39m\"\u001b[39m, \u001b[39m1\u001b[39m)], (\u001b[39m2\u001b[39m, \u001b[39m1\u001b[39m), \u001b[39m0\u001b[39m),\n\u001b[0;32m     <a href='vscode-notebook-cell:/c%3A/Users/LENOVO/Repos/AI-Algorithms-Python/LAB_06/main.ipynb#W4sZmlsZQ%3D%3D?line=10'>11</a>\u001b[0m     \u001b[39m\"\u001b[39m\u001b[39mJ\u001b[39m\u001b[39m\"\u001b[39m: Node(\u001b[39m\"\u001b[39m\u001b[39mJ\u001b[39m\u001b[39m\"\u001b[39m, \u001b[39mNone\u001b[39;00m, [(\u001b[39m\"\u001b[39m\u001b[39mG\u001b[39m\u001b[39m\"\u001b[39m, \u001b[39m1\u001b[39m), (\u001b[39m\"\u001b[39m\u001b[39mI\u001b[39m\u001b[39m\"\u001b[39m, \u001b[39m1\u001b[39m)], (\u001b[39m2\u001b[39m, \u001b[39m2\u001b[39m), \u001b[39m0\u001b[39m),\n\u001b[0;32m     <a href='vscode-notebook-cell:/c%3A/Users/LENOVO/Repos/AI-Algorithms-Python/LAB_06/main.ipynb#W4sZmlsZQ%3D%3D?line=11'>12</a>\u001b[0m     \u001b[39m\"\u001b[39m\u001b[39mK\u001b[39m\u001b[39m\"\u001b[39m: Node(\u001b[39m\"\u001b[39m\u001b[39mK\u001b[39m\u001b[39m\"\u001b[39m, \u001b[39mNone\u001b[39;00m, [(\u001b[39m\"\u001b[39m\u001b[39mL\u001b[39m\u001b[39m\"\u001b[39m, \u001b[39m1\u001b[39m), (\u001b[39m\"\u001b[39m\u001b[39mP\u001b[39m\u001b[39m\"\u001b[39m, \u001b[39m1\u001b[39m)], (\u001b[39m2\u001b[39m, \u001b[39m4\u001b[39m), \u001b[39m0\u001b[39m),\n\u001b[0;32m     <a href='vscode-notebook-cell:/c%3A/Users/LENOVO/Repos/AI-Algorithms-Python/LAB_06/main.ipynb#W4sZmlsZQ%3D%3D?line=12'>13</a>\u001b[0m     \u001b[39m\"\u001b[39m\u001b[39mL\u001b[39m\u001b[39m\"\u001b[39m: Node(\u001b[39m\"\u001b[39m\u001b[39mL\u001b[39m\u001b[39m\"\u001b[39m, \u001b[39mNone\u001b[39;00m, [(\u001b[39m\"\u001b[39m\u001b[39mK\u001b[39m\u001b[39m\"\u001b[39m, \u001b[39m1\u001b[39m), (\u001b[39m\"\u001b[39m\u001b[39mQ\u001b[39m\u001b[39m\"\u001b[39m, \u001b[39m1\u001b[39m)], (\u001b[39m2\u001b[39m, \u001b[39m5\u001b[39m), \u001b[39m0\u001b[39m),\n\u001b[0;32m     <a href='vscode-notebook-cell:/c%3A/Users/LENOVO/Repos/AI-Algorithms-Python/LAB_06/main.ipynb#W4sZmlsZQ%3D%3D?line=13'>14</a>\u001b[0m     \u001b[39m\"\u001b[39m\u001b[39mM\u001b[39m\u001b[39m\"\u001b[39m: Node(\u001b[39m\"\u001b[39m\u001b[39mM\u001b[39m\u001b[39m\"\u001b[39m, \u001b[39mNone\u001b[39;00m, [(\u001b[39m\"\u001b[39m\u001b[39mH\u001b[39m\u001b[39m\"\u001b[39m, \u001b[39m1\u001b[39m), (\u001b[39m\"\u001b[39m\u001b[39mN\u001b[39m\u001b[39m\"\u001b[39m, \u001b[39m1\u001b[39m), (\u001b[39m\"\u001b[39m\u001b[39mR\u001b[39m\u001b[39m\"\u001b[39m, \u001b[39m1\u001b[39m)], (\u001b[39m3\u001b[39m, \u001b[39m0\u001b[39m), \u001b[39m0\u001b[39m),\n\u001b[0;32m     <a href='vscode-notebook-cell:/c%3A/Users/LENOVO/Repos/AI-Algorithms-Python/LAB_06/main.ipynb#W4sZmlsZQ%3D%3D?line=14'>15</a>\u001b[0m     \u001b[39m\"\u001b[39m\u001b[39mN\u001b[39m\u001b[39m\"\u001b[39m: Node(\u001b[39m\"\u001b[39m\u001b[39mN\u001b[39m\u001b[39m\"\u001b[39m, \u001b[39mNone\u001b[39;00m, [(\u001b[39m\"\u001b[39m\u001b[39mI\u001b[39m\u001b[39m\"\u001b[39m, \u001b[39m1\u001b[39m), (\u001b[39m\"\u001b[39m\u001b[39mM\u001b[39m\u001b[39m\"\u001b[39m, \u001b[39m1\u001b[39m), (\u001b[39m\"\u001b[39m\u001b[39mS\u001b[39m\u001b[39m\"\u001b[39m, \u001b[39m1\u001b[39m)], (\u001b[39m3\u001b[39m, \u001b[39m1\u001b[39m), \u001b[39m0\u001b[39m),\n\u001b[0;32m     <a href='vscode-notebook-cell:/c%3A/Users/LENOVO/Repos/AI-Algorithms-Python/LAB_06/main.ipynb#W4sZmlsZQ%3D%3D?line=15'>16</a>\u001b[0m     \u001b[39m\"\u001b[39m\u001b[39mO\u001b[39m\u001b[39m\"\u001b[39m: Node(\u001b[39m\"\u001b[39m\u001b[39mO\u001b[39m\u001b[39m\"\u001b[39m, \u001b[39mNone\u001b[39;00m, [(\u001b[39m\"\u001b[39m\u001b[39mP\u001b[39m\u001b[39m\"\u001b[39m, \u001b[39m1\u001b[39m), (\u001b[39m\"\u001b[39m\u001b[39mU\u001b[39m\u001b[39m\"\u001b[39m, \u001b[39m1\u001b[39m)], (\u001b[39m3\u001b[39m, \u001b[39m3\u001b[39m), \u001b[39m0\u001b[39m),\n\u001b[0;32m     <a href='vscode-notebook-cell:/c%3A/Users/LENOVO/Repos/AI-Algorithms-Python/LAB_06/main.ipynb#W4sZmlsZQ%3D%3D?line=16'>17</a>\u001b[0m     \u001b[39m\"\u001b[39m\u001b[39mP\u001b[39m\u001b[39m\"\u001b[39m: Node(\u001b[39m\"\u001b[39m\u001b[39mP\u001b[39m\u001b[39m\"\u001b[39m, \u001b[39mNone\u001b[39;00m, [(\u001b[39m\"\u001b[39m\u001b[39mQ\u001b[39m\u001b[39m\"\u001b[39m, \u001b[39m1\u001b[39m), (\u001b[39m\"\u001b[39m\u001b[39mO\u001b[39m\u001b[39m\"\u001b[39m, \u001b[39m1\u001b[39m)], (\u001b[39m3\u001b[39m, \u001b[39m4\u001b[39m), \u001b[39m0\u001b[39m),\n\u001b[0;32m     <a href='vscode-notebook-cell:/c%3A/Users/LENOVO/Repos/AI-Algorithms-Python/LAB_06/main.ipynb#W4sZmlsZQ%3D%3D?line=17'>18</a>\u001b[0m     \u001b[39m\"\u001b[39m\u001b[39mQ\u001b[39m\u001b[39m\"\u001b[39m: Node(\u001b[39m\"\u001b[39m\u001b[39mQ\u001b[39m\u001b[39m\"\u001b[39m, \u001b[39mNone\u001b[39;00m, [(\u001b[39m\"\u001b[39m\u001b[39mL\u001b[39m\u001b[39m\"\u001b[39m, \u001b[39m1\u001b[39m), (\u001b[39m\"\u001b[39m\u001b[39mP\u001b[39m\u001b[39m\"\u001b[39m, \u001b[39m1\u001b[39m), (\u001b[39m\"\u001b[39m\u001b[39mV\u001b[39m\u001b[39m\"\u001b[39m, \u001b[39m1\u001b[39m)], (\u001b[39m3\u001b[39m, \u001b[39m5\u001b[39m), \u001b[39m0\u001b[39m),\n\u001b[0;32m     <a href='vscode-notebook-cell:/c%3A/Users/LENOVO/Repos/AI-Algorithms-Python/LAB_06/main.ipynb#W4sZmlsZQ%3D%3D?line=18'>19</a>\u001b[0m     \u001b[39m\"\u001b[39m\u001b[39mR\u001b[39m\u001b[39m\"\u001b[39m: Node(\u001b[39m\"\u001b[39m\u001b[39mR\u001b[39m\u001b[39m\"\u001b[39m, \u001b[39mNone\u001b[39;00m, [(\u001b[39m\"\u001b[39m\u001b[39mM\u001b[39m\u001b[39m\"\u001b[39m, \u001b[39m1\u001b[39m), (\u001b[39m\"\u001b[39m\u001b[39mS\u001b[39m\u001b[39m\"\u001b[39m, \u001b[39m1\u001b[39m)], (\u001b[39m4\u001b[39m, \u001b[39m0\u001b[39m), \u001b[39m0\u001b[39m),\n\u001b[0;32m     <a href='vscode-notebook-cell:/c%3A/Users/LENOVO/Repos/AI-Algorithms-Python/LAB_06/main.ipynb#W4sZmlsZQ%3D%3D?line=19'>20</a>\u001b[0m     \u001b[39m\"\u001b[39m\u001b[39mS\u001b[39m\u001b[39m\"\u001b[39m: Node(\u001b[39m\"\u001b[39m\u001b[39mS\u001b[39m\u001b[39m\"\u001b[39m, \u001b[39mNone\u001b[39;00m, [(\u001b[39m\"\u001b[39m\u001b[39mN\u001b[39m\u001b[39m\"\u001b[39m, \u001b[39m1\u001b[39m), (\u001b[39m\"\u001b[39m\u001b[39mR\u001b[39m\u001b[39m\"\u001b[39m, \u001b[39m1\u001b[39m), (\u001b[39m\"\u001b[39m\u001b[39mT\u001b[39m\u001b[39m\"\u001b[39m, \u001b[39m1\u001b[39m)], (\u001b[39m4\u001b[39m, \u001b[39m1\u001b[39m), \u001b[39m0\u001b[39m),\n\u001b[0;32m     <a href='vscode-notebook-cell:/c%3A/Users/LENOVO/Repos/AI-Algorithms-Python/LAB_06/main.ipynb#W4sZmlsZQ%3D%3D?line=20'>21</a>\u001b[0m     \u001b[39m\"\u001b[39m\u001b[39mT\u001b[39m\u001b[39m\"\u001b[39m: Node(\u001b[39m\"\u001b[39m\u001b[39mT\u001b[39m\u001b[39m\"\u001b[39m, \u001b[39mNone\u001b[39;00m, [(\u001b[39m\"\u001b[39m\u001b[39mS\u001b[39m\u001b[39m\"\u001b[39m, \u001b[39m1\u001b[39m), (\u001b[39m\"\u001b[39m\u001b[39mU\u001b[39m\u001b[39m\"\u001b[39m, \u001b[39m1\u001b[39m), (\u001b[39m\"\u001b[39m\u001b[39mW\u001b[39m\u001b[39m\"\u001b[39m, \u001b[39m1\u001b[39m)], (\u001b[39m4\u001b[39m, \u001b[39m2\u001b[39m), \u001b[39m0\u001b[39m),\n\u001b[0;32m     <a href='vscode-notebook-cell:/c%3A/Users/LENOVO/Repos/AI-Algorithms-Python/LAB_06/main.ipynb#W4sZmlsZQ%3D%3D?line=21'>22</a>\u001b[0m     \u001b[39m\"\u001b[39m\u001b[39mU\u001b[39m\u001b[39m\"\u001b[39m: Node(\u001b[39m\"\u001b[39m\u001b[39mU\u001b[39m\u001b[39m\"\u001b[39m, \u001b[39mNone\u001b[39;00m, [(\u001b[39m\"\u001b[39m\u001b[39mO\u001b[39m\u001b[39m\"\u001b[39m, \u001b[39m1\u001b[39m), (\u001b[39m\"\u001b[39m\u001b[39mT\u001b[39m\u001b[39m\"\u001b[39m, \u001b[39m1\u001b[39m)], (\u001b[39m4\u001b[39m, \u001b[39m3\u001b[39m), \u001b[39m0\u001b[39m),\n\u001b[0;32m     <a href='vscode-notebook-cell:/c%3A/Users/LENOVO/Repos/AI-Algorithms-Python/LAB_06/main.ipynb#W4sZmlsZQ%3D%3D?line=22'>23</a>\u001b[0m     \u001b[39m\"\u001b[39m\u001b[39mV\u001b[39m\u001b[39m\"\u001b[39m: Node(\u001b[39m\"\u001b[39m\u001b[39mV\u001b[39m\u001b[39m\"\u001b[39m, \u001b[39mNone\u001b[39;00m, [(\u001b[39m\"\u001b[39m\u001b[39mQ\u001b[39m\u001b[39m\"\u001b[39m, \u001b[39m1\u001b[39m), (\u001b[39m\"\u001b[39m\u001b[39mY\u001b[39m\u001b[39m\"\u001b[39m, \u001b[39m1\u001b[39m)], (\u001b[39m4\u001b[39m, \u001b[39m5\u001b[39m), \u001b[39m0\u001b[39m),\n\u001b[0;32m     <a href='vscode-notebook-cell:/c%3A/Users/LENOVO/Repos/AI-Algorithms-Python/LAB_06/main.ipynb#W4sZmlsZQ%3D%3D?line=23'>24</a>\u001b[0m     \u001b[39m\"\u001b[39m\u001b[39mW\u001b[39m\u001b[39m\"\u001b[39m: Node(\u001b[39m\"\u001b[39m\u001b[39mW\u001b[39m\u001b[39m\"\u001b[39m, \u001b[39mNone\u001b[39;00m, [(\u001b[39m\"\u001b[39m\u001b[39mT\u001b[39m\u001b[39m\"\u001b[39m, \u001b[39m1\u001b[39m)], (\u001b[39m5\u001b[39m, \u001b[39m2\u001b[39m), \u001b[39m0\u001b[39m),\n\u001b[0;32m     <a href='vscode-notebook-cell:/c%3A/Users/LENOVO/Repos/AI-Algorithms-Python/LAB_06/main.ipynb#W4sZmlsZQ%3D%3D?line=24'>25</a>\u001b[0m     \u001b[39m\"\u001b[39m\u001b[39mX\u001b[39m\u001b[39m\"\u001b[39m: Node(\u001b[39m\"\u001b[39m\u001b[39mX\u001b[39m\u001b[39m\"\u001b[39m, \u001b[39mNone\u001b[39;00m, [(\u001b[39m\"\u001b[39m\u001b[39mY\u001b[39m\u001b[39m\"\u001b[39m, \u001b[39m1\u001b[39m)], (\u001b[39m5\u001b[39m, \u001b[39m4\u001b[39m), \u001b[39m0\u001b[39m),\n\u001b[0;32m     <a href='vscode-notebook-cell:/c%3A/Users/LENOVO/Repos/AI-Algorithms-Python/LAB_06/main.ipynb#W4sZmlsZQ%3D%3D?line=25'>26</a>\u001b[0m     \u001b[39m\"\u001b[39m\u001b[39mY\u001b[39m\u001b[39m\"\u001b[39m: Node(\u001b[39m\"\u001b[39m\u001b[39mY\u001b[39m\u001b[39m\"\u001b[39m, \u001b[39mNone\u001b[39;00m, [(\u001b[39m\"\u001b[39m\u001b[39mV\u001b[39m\u001b[39m\"\u001b[39m, \u001b[39m1\u001b[39m), (\u001b[39m\"\u001b[39m\u001b[39mX\u001b[39m\u001b[39m\"\u001b[39m, \u001b[39m1\u001b[39m)], (\u001b[39m5\u001b[39m, \u001b[39m5\u001b[39m), \u001b[39m0\u001b[39m),\n\u001b[0;32m     <a href='vscode-notebook-cell:/c%3A/Users/LENOVO/Repos/AI-Algorithms-Python/LAB_06/main.ipynb#W4sZmlsZQ%3D%3D?line=26'>27</a>\u001b[0m }\n",
      "\u001b[1;31mTypeError\u001b[0m: Node() takes no arguments"
     ]
    }
   ],
   "source": [
    "graph = {\n",
    "    \"A\": Node(\"A\", None, [(\"F\", 1)], (0, 0), 0),\n",
    "    \"B\": Node(\"B\", None, [(\"C\", 1), (\"G\", 1)], (0, 2), 0),\n",
    "    \"C\": Node(\"C\", None, [(\"B\", 1), (\"D\", 1)], (0, 3), 0),\n",
    "    \"D\": Node(\"D\", None, [(\"C\", 1), (\"E\", 1)], (0, 4), 0),\n",
    "    \"E\": Node(\"E\", None, [(\"D\", 1)], (0, 5), 0),\n",
    "    \"F\": Node(\"F\", None, [(\"A\", 1), (\"H\", 1)], (1, 0), 0),\n",
    "    \"G\": Node(\"G\", None, [(\"B\", 1), (\"J\", 1)], (1, 2), 0),\n",
    "    \"H\": Node(\"H\", None, [(\"F\", 1), (\"I\", 1), (\"M\", 1)], (2, 0), 0),\n",
    "    \"I\": Node(\"I\", None, [(\"N\", 1), (\"J\", 1)], (2, 1), 0),\n",
    "    \"J\": Node(\"J\", None, [(\"G\", 1), (\"I\", 1)], (2, 2), 0),\n",
    "    \"K\": Node(\"K\", None, [(\"L\", 1), (\"P\", 1)], (2, 4), 0),\n",
    "    \"L\": Node(\"L\", None, [(\"K\", 1), (\"Q\", 1)], (2, 5), 0),\n",
    "    \"M\": Node(\"M\", None, [(\"H\", 1), (\"N\", 1), (\"R\", 1)], (3, 0), 0),\n",
    "    \"N\": Node(\"N\", None, [(\"I\", 1), (\"M\", 1), (\"S\", 1)], (3, 1), 0),\n",
    "    \"O\": Node(\"O\", None, [(\"P\", 1), (\"U\", 1)], (3, 3), 0),\n",
    "    \"P\": Node(\"P\", None, [(\"Q\", 1), (\"O\", 1)], (3, 4), 0),\n",
    "    \"Q\": Node(\"Q\", None, [(\"L\", 1), (\"P\", 1), (\"V\", 1)], (3, 5), 0),\n",
    "    \"R\": Node(\"R\", None, [(\"M\", 1), (\"S\", 1)], (4, 0), 0),\n",
    "    \"S\": Node(\"S\", None, [(\"N\", 1), (\"R\", 1), (\"T\", 1)], (4, 1), 0),\n",
    "    \"T\": Node(\"T\", None, [(\"S\", 1), (\"U\", 1), (\"W\", 1)], (4, 2), 0),\n",
    "    \"U\": Node(\"U\", None, [(\"O\", 1), (\"T\", 1)], (4, 3), 0),\n",
    "    \"V\": Node(\"V\", None, [(\"Q\", 1), (\"Y\", 1)], (4, 5), 0),\n",
    "    \"W\": Node(\"W\", None, [(\"T\", 1)], (5, 2), 0),\n",
    "    \"X\": Node(\"X\", None, [(\"Y\", 1)], (5, 4), 0),\n",
    "    \"Y\": Node(\"Y\", None, [(\"V\", 1), (\"X\", 1)], (5, 5), 0),\n",
    "}"
   ]
  },
  {
   "cell_type": "markdown",
   "metadata": {},
   "source": [
    "## Task 3: A* Search\n",
    "\n",
    "Write a function that takes a graph and a start node and returns the tree resulted from the graph search algorithm. The function should return the root node of the tree."
   ]
  },
  {
   "cell_type": "markdown",
   "metadata": {},
   "source": [
    "**Action Sequence Function:**\n",
    "\n",
    "Write a function that takes a node and returns the sequence of actions that leads to that node from a source node."
   ]
  },
  {
   "cell_type": "code",
   "execution_count": null,
   "metadata": {},
   "outputs": [],
   "source": [
    "def actionSequence(graph, start, goal):\n",
    "    solution = [goal]\n",
    "    current = goal\n",
    "    while current != start:\n",
    "        currentParent = graph[current].parent\n",
    "        solution.append(currentParent)\n",
    "        current = currentParent\n",
    "    solution.reverse()\n",
    "    return solution"
   ]
  },
  {
   "cell_type": "markdown",
   "metadata": {},
   "source": [
    "**Find Min from Queue:**\n",
    "\n",
    "Write a function that takes a queue and returns the node with the minimum total cost."
   ]
  },
  {
   "cell_type": "code",
   "execution_count": null,
   "metadata": {},
   "outputs": [],
   "source": [
    "import math\n",
    "\n",
    "def findMin (frontier):\n",
    "    minV = math.inf\n",
    "    node = \" \"\n",
    "    for i in frontier:\n",
    "        if minV > frontier[i][1]:\n",
    "            minV = frontier [i][1]\n",
    "            node = i\n",
    "    return node"
   ]
  },
  {
   "cell_type": "markdown",
   "metadata": {},
   "source": [
    "**Euclidean Distance:**\n",
    "\n",
    "Euclidean distance, also known as L2 distance or Euclidean norm, is a measure of the straight-line distance between two points in Euclidean space.\n",
    "\n",
    "**Formula:**\n",
    "Euclidean Distance = √((x2 - x1)^2 + (y2 - y1)^2)"
   ]
  },
  {
   "cell_type": "code",
   "execution_count": null,
   "metadata": {},
   "outputs": [],
   "source": [
    "def euclidean_distance(p1, p2):\n",
    "    return math.sqrt(((p2[0] - p1[0]) ** 2 + (p2[1] - p1[1]) ** 2))"
   ]
  },
  {
   "cell_type": "markdown",
   "metadata": {},
   "source": [
    "**A\\* Search Algorithm:**\n",
    "\n",
    "Write a function that takes a graph and a start node and returns the tree resulted from the A* search algorithm. The function should return the root node of the tree."
   ]
  },
  {
   "cell_type": "code",
   "execution_count": null,
   "metadata": {},
   "outputs": [],
   "source": [
    "def a_star(start, goal, graph):\n",
    "    frontier = {start: (graph[start], 0)}\n",
    "    explored = []\n",
    "    while frontier:\n",
    "        current = findMin(frontier)\n",
    "        if current == goal:\n",
    "            return actionSequence(graph, start, goal)\n",
    "        explored.append(current)\n",
    "        del frontier[current]\n",
    "        for action in graph[current].actions:\n",
    "            child = action[0]\n",
    "            if child not in explored:\n",
    "                new_cost = graph[current].totalcost[0] + action[1]\n",
    "                if child not in frontier:\n",
    "                    frontier[child] = (graph[child], new_cost + euclidean_distance(graph[child].totalcost, graph[goal].totalcost))\n",
    "                elif new_cost < frontier[child][1]:\n",
    "                    frontier[child] = (graph[child], new_cost + euclidean_distance(graph[child].totalcost, graph[goal].totalcost))\n",
    "                    graph[child].parent = current\n",
    "    return None"
   ]
  },
  {
   "cell_type": "markdown",
   "metadata": {},
   "source": [
    "## Task 3: Test A* Search\n",
    "\n",
    "Test your A* search algorithm using the above graphs."
   ]
  },
  {
   "cell_type": "code",
   "execution_count": null,
   "metadata": {},
   "outputs": [
    {
     "ename": "TypeError",
     "evalue": "string indices must be integers, not 'str'",
     "output_type": "error",
     "traceback": [
      "\u001b[1;31m---------------------------------------------------------------------------\u001b[0m",
      "\u001b[1;31mTypeError\u001b[0m                                 Traceback (most recent call last)",
      "\u001b[1;32mc:\\Users\\LENOVO\\Repos\\AI-Algorithms-Python\\LAB_06\\main.ipynb Cell 16\u001b[0m line \u001b[0;36m1\n\u001b[1;32m----> <a href='vscode-notebook-cell:/c%3A/Users/LENOVO/Repos/AI-Algorithms-Python/LAB_06/main.ipynb#X44sZmlsZQ%3D%3D?line=0'>1</a>\u001b[0m \u001b[39mprint\u001b[39m(a_star(\u001b[39m\"\u001b[39;49m\u001b[39mA\u001b[39;49m\u001b[39m\"\u001b[39;49m, \u001b[39m\"\u001b[39;49m\u001b[39mY\u001b[39;49m\u001b[39m\"\u001b[39;49m, graph))\n",
      "\u001b[1;32mc:\\Users\\LENOVO\\Repos\\AI-Algorithms-Python\\LAB_06\\main.ipynb Cell 16\u001b[0m line \u001b[0;36m6\n\u001b[0;32m      <a href='vscode-notebook-cell:/c%3A/Users/LENOVO/Repos/AI-Algorithms-Python/LAB_06/main.ipynb#X44sZmlsZQ%3D%3D?line=3'>4</a>\u001b[0m frontier \u001b[39m=\u001b[39m {}  \u001b[39m# Use a dictionary for frontier\u001b[39;00m\n\u001b[0;32m      <a href='vscode-notebook-cell:/c%3A/Users/LENOVO/Repos/AI-Algorithms-Python/LAB_06/main.ipynb#X44sZmlsZQ%3D%3D?line=4'>5</a>\u001b[0m heuristic_costs \u001b[39m=\u001b[39m {}  \u001b[39m# Store heuristic costs separately\u001b[39;00m\n\u001b[1;32m----> <a href='vscode-notebook-cell:/c%3A/Users/LENOVO/Repos/AI-Algorithms-Python/LAB_06/main.ipynb#X44sZmlsZQ%3D%3D?line=5'>6</a>\u001b[0m heuristic_costs[initial_state] \u001b[39m=\u001b[39m euclidean_distance(graph[initial_state]\u001b[39m.\u001b[39mheuristic, graph[goal_state]\u001b[39m.\u001b[39mheuristic)\n\u001b[0;32m      <a href='vscode-notebook-cell:/c%3A/Users/LENOVO/Repos/AI-Algorithms-Python/LAB_06/main.ipynb#X44sZmlsZQ%3D%3D?line=7'>8</a>\u001b[0m explored \u001b[39m=\u001b[39m {}\n\u001b[0;32m     <a href='vscode-notebook-cell:/c%3A/Users/LENOVO/Repos/AI-Algorithms-Python/LAB_06/main.ipynb#X44sZmlsZQ%3D%3D?line=9'>10</a>\u001b[0m \u001b[39mwhile\u001b[39;00m frontier:\n",
      "\u001b[1;31mTypeError\u001b[0m: string indices must be integers, not 'str'"
     ]
    }
   ],
   "source": [
    "print(a_star(\"A\", \"Y\", graph))"
   ]
  }
 ],
 "metadata": {
  "kernelspec": {
   "display_name": "Python 3",
   "language": "python",
   "name": "python3"
  },
  "language_info": {
   "codemirror_mode": {
    "name": "ipython",
    "version": 3
   },
   "file_extension": ".py",
   "mimetype": "text/x-python",
   "name": "python",
   "nbconvert_exporter": "python",
   "pygments_lexer": "ipython3",
   "version": "3.11.5"
  },
  "orig_nbformat": 4
 },
 "nbformat": 4,
 "nbformat_minor": 2
}
