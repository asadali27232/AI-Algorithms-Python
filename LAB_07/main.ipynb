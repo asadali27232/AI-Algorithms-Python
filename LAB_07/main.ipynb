{
 "cells": [
  {
   "cell_type": "markdown",
   "metadata": {},
   "source": [
    "# LAB 07:\n"
   ]
  },
  {
   "cell_type": "markdown",
   "metadata": {},
   "source": [
    "## Task 1: Implement Node Class\n",
    "\n",
    "Write class Node that has the following attributes:\n",
    "\n",
    "- state\n",
    "- parent\n",
    "- action\n",
    "- totalcost\n",
    "- huristic\n"
   ]
  },
  {
   "cell_type": "code",
   "execution_count": 9,
   "metadata": {},
   "outputs": [],
   "source": [
    "class Node:\n",
    "    def __init__(self, state, parent, actions, totalCost, heuristic):\n",
    "        self.state = state\n",
    "        self.parent = parent\n",
    "        self.actions = actions\n",
    "        self.totalCost = totalCost\n",
    "        self.heuristic = heuristic"
   ]
  },
  {
   "cell_type": "markdown",
   "metadata": {},
   "source": [
    "## Task 2: Implemnet Graphs using Node Class\n",
    "\n",
    "Create different graphs using the Node class. Use dictionaries to store the graph nodes. The keys of the dictionaries are the names of the nodes and the values are the Node objects.\n"
   ]
  },
  {
   "cell_type": "code",
   "execution_count": 10,
   "metadata": {},
   "outputs": [],
   "source": [
    "graph = {\n",
    "        'A': Node('A', None, [('F',1)], 0, (0,0)),\n",
    "        'B': Node('B', None, [('C',1), ('G',1)], 0, (2,0)),\n",
    "        'C': Node('C', None, [('B',1), ('D',1)], 0, (3,0)),\n",
    "        'D': Node('D', None, [('C',1), ('E',1)], 0, (4,0)),\n",
    "        'E': Node('E', None, [('D',1)], 0, (5,0)),\n",
    "        'F': Node('F', None, [('A',1), ('H',1)], 0, (0,1)),\n",
    "        'G': Node('G', None, [('B',1), ('J',1)], 0, (2,1)),\n",
    "        'H': Node('H', None, [('F',1), ('I',1), ('M',1)], 0, (0,2)),\n",
    "        'I': Node('I', None, [('H',1), ('J',1), ('N',1)], 0, (1,2)),\n",
    "        'J': Node('J', None, [('G',1), ('I',1)], 0, (2,2)),\n",
    "        'K': Node('K', None, [('L',1), ('P',1)], 0, (4,2)),\n",
    "        'L': Node('L', None, [('K',1), ('Q',1)], 0, (5,2)),\n",
    "        'M': Node('M', None, [('H',1), ('N',1), ('R',1)], 0, (0,3)),\n",
    "        'N': Node('N', None, [('I',1), ('M',1), ('S',1)], 0, (1,3)),\n",
    "        'O': Node('O', None, [('P',1), ('U',1)], 0, (3,3)),\n",
    "        'P': Node('P', None, [('K',1), ('O',1), ('Q',1)], 0, (4,3)),\n",
    "        'Q': Node('Q', None, [('L',1), ('P',1), ('V',1)], 0, (5,3)),\n",
    "        'R': Node('R', None, [('M',1), ('S',1)], 0, (0,4)),\n",
    "        'S': Node('S', None, [('N',1), ('R',1), ('T',1)], 0, (1,4)),\n",
    "        'T': Node('T', None, [('S',1), ('W',1), ('U',1)], 0, (2,4)),\n",
    "        'U': Node('U', None, [('O',1), ('T',1)], 0, (3,4)),\n",
    "        'V': Node('V', None, [('Q',1), ('Y',1)], 0, (5,4)),\n",
    "        'W': Node('W', None, [('T',1)], 0, (2,5)),\n",
    "        'X': Node('X', None, [('Y',1)], 0, (4,5)),\n",
    "        'Y': Node('Y', None, [('X',1), ('Y',1)], 0, (5,5))\n",
    "}"
   ]
  },
  {
   "cell_type": "markdown",
   "metadata": {},
   "source": [
    "## Task 3: Hill Climbing\n",
    "\n",
    "Write a function which implements Hill Climbing algorithm.\n"
   ]
  },
  {
   "cell_type": "code",
   "execution_count": 11,
   "metadata": {},
   "outputs": [],
   "source": [
    "def hillClimbing(graph, initialState, goalState):\n",
    "    import math\n",
    "\n",
    "    parentNode = initialState\n",
    "    parentCost = math.sqrt((graph[goalState].heuristic[0] - graph[initialState].heuristic[0]) ** 2 + (graph[goalState].heuristic[1] - graph[initialState].heuristic[1]) ** 2)\n",
    "\n",
    "    explored = []\n",
    "    solution = []\n",
    "    minChildCost = parentCost - 1\n",
    "    while parentNode != goalState:\n",
    "        bestNode = parentNode\n",
    "        minChildCost = parentCost\n",
    "        explored.append(parentNode)\n",
    "        for child in graph[parentNode].actions:\n",
    "            if child[0] not in explored:\n",
    "                childCost = math.sqrt((graph[goalState].heuristic[0] - graph[child[0]].heuristic[0]) ** 2 + (graph[goalState].heuristic[1] - graph[child[0]].heuristic[1]) ** 2)\n",
    "                if childCost < minChildCost:\n",
    "                    bestNode = child[0]\n",
    "                    minChildCost = childCost\n",
    "        if bestNode == parentNode:\n",
    "            break\n",
    "        else:\n",
    "            parentNode = bestNode\n",
    "            parentCost = minChildCost\n",
    "            solution.append(parentNode)\n",
    "    return solution"
   ]
  },
  {
   "cell_type": "markdown",
   "metadata": {},
   "source": [
    "## Task 3: Test Hill Climbing Algorithm\n",
    "\n",
    "Test your A\\* search algorithm using the above graphs.\n"
   ]
  },
  {
   "cell_type": "code",
   "execution_count": 12,
   "metadata": {},
   "outputs": [
    {
     "name": "stdout",
     "output_type": "stream",
     "text": [
      "['F', 'H', 'I', 'J']\n"
     ]
    }
   ],
   "source": [
    "print(hillClimbing(graph, \"A\", \"Y\"))"
   ]
  },
  {
   "cell_type": "markdown",
   "metadata": {},
   "source": [
    "## For Mid Term Hill Climbing Problem"
   ]
  },
  {
   "cell_type": "code",
   "execution_count": 1,
   "metadata": {},
   "outputs": [
    {
     "name": "stdout",
     "output_type": "stream",
     "text": [
      "Initial State:\n",
      "[2, 8, 3]\n",
      "[1, 6, 4]\n",
      "[7, 0, 5]\n",
      "\n",
      "Solution State:\n",
      "[2, 8, 3]\n",
      "[1, 6, 4]\n",
      "[7, 5, 0]\n"
     ]
    }
   ],
   "source": [
    "import math\n",
    "import random\n",
    "\n",
    "# Define the initial and goal states\n",
    "initial_state = [[2, 8, 3], [1, 6, 4], [7, 0, 5]]\n",
    "goal_state = [[1, 2, 3], [8, 0, 4], [7, 6, 5]]\n",
    "\n",
    "# Define the heuristic function (Manhattan distance)\n",
    "def heuristic(state):\n",
    "    distance = 0\n",
    "    for i in range(3):\n",
    "        for j in range(3):\n",
    "            if state[i][j] != 0:\n",
    "                target_row, target_col = (state[i][j] - 1) // 3, (state[i][j] - 1) % 3\n",
    "                distance += abs(i - target_row) + abs(j - target_col)\n",
    "    return distance\n",
    "\n",
    "# Define a function to generate successor states\n",
    "def generate_successors(state):\n",
    "    successors = []\n",
    "    zero_row, zero_col = None, None\n",
    "\n",
    "    # Find the position of the blank (0)\n",
    "    for i in range(3):\n",
    "        for j in range(3):\n",
    "            if state[i][j] == 0:\n",
    "                zero_row, zero_col = i, j\n",
    "\n",
    "    # Define possible moves (up, down, left, right)\n",
    "    moves = [(0, 1), (0, -1), (1, 0), (-1, 0)]\n",
    "\n",
    "    # Generate successor states by swapping the blank with adjacent tiles\n",
    "    for move in moves:\n",
    "        new_row, new_col = zero_row + move[0], zero_col + move[1]\n",
    "        if 0 <= new_row < 3 and 0 <= new_col < 3:\n",
    "            successor = [row[:] for row in state]  # Create a copy of the current state\n",
    "            successor[zero_row][zero_col], successor[new_row][new_col] = successor[new_row][new_col], successor[zero_row][zero_col]\n",
    "            successors.append(successor)\n",
    "\n",
    "    return successors\n",
    "\n",
    "# Hill Climbing algorithm\n",
    "def hill_climbing(initial_state):\n",
    "    current_state = initial_state\n",
    "    current_heuristic = heuristic(current_state)\n",
    "\n",
    "    while current_heuristic > 0:\n",
    "        successors = generate_successors(current_state)\n",
    "        best_successor = None\n",
    "        best_heuristic = current_heuristic\n",
    "\n",
    "        for successor in successors:\n",
    "            successor_heuristic = heuristic(successor)\n",
    "            if successor_heuristic < best_heuristic:\n",
    "                best_successor = successor\n",
    "                best_heuristic = successor_heuristic\n",
    "\n",
    "        if best_heuristic >= current_heuristic:\n",
    "            break  # Local minimum reached\n",
    "\n",
    "        current_state = best_successor\n",
    "        current_heuristic = best_heuristic\n",
    "\n",
    "    return current_state\n",
    "\n",
    "# Solve the puzzle\n",
    "solution_state = hill_climbing(initial_state)\n",
    "\n",
    "# Print the solution\n",
    "print(\"Initial State:\")\n",
    "for row in initial_state:\n",
    "    print(row)\n",
    "print(\"\\nSolution State:\")\n",
    "for row in solution_state:\n",
    "    print(row)\n"
   ]
  }
 ],
 "metadata": {
  "kernelspec": {
   "display_name": "Python 3",
   "language": "python",
   "name": "python3"
  },
  "language_info": {
   "codemirror_mode": {
    "name": "ipython",
    "version": 3
   },
   "file_extension": ".py",
   "mimetype": "text/x-python",
   "name": "python",
   "nbconvert_exporter": "python",
   "pygments_lexer": "ipython3",
   "version": "3.11.5"
  },
  "orig_nbformat": 4
 },
 "nbformat": 4,
 "nbformat_minor": 2
}
