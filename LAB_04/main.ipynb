{
 "cells": [
  {
   "cell_type": "markdown",
   "metadata": {},
   "source": [
    "# LAB 04: BFS and DFS for Graphs\n"
   ]
  },
  {
   "cell_type": "markdown",
   "metadata": {},
   "source": [
    "## Task 1: Implement Node Class\n",
    "\n",
    "Write class Node that has the following attributes:\n",
    "\n",
    "- name: string\n",
    "- neighbors: list of Node objects\n",
    "- cost: integer\n"
   ]
  },
  {
   "cell_type": "code",
   "execution_count": 41,
   "metadata": {},
   "outputs": [],
   "source": [
    "\n",
    "class Node:\n",
    "    def __init__(self, state, parent, actions, totalcost):\n",
    "        self.state = state\n",
    "        self.parent = parent\n",
    "        self.actions = actions\n",
    "        self.totalcost = totalcost\n"
   ]
  },
  {
   "cell_type": "markdown",
   "metadata": {},
   "source": [
    "## Task 2: Implemnet Graphs using Node Class\n",
    "\n",
    "Create different graphs using the Node class. Use dictionaries to store the graph nodes. The keys of the dictionaries are the names of the nodes and the values are the Node objects.\n"
   ]
  },
  {
   "cell_type": "markdown",
   "metadata": {},
   "source": [
    "Graph 1:"
   ]
  },
  {
   "cell_type": "code",
   "execution_count": 42,
   "metadata": {},
   "outputs": [],
   "source": [
    "graph1 = {\n",
    "    \"A\": Node(\"A\", None, [\"B\", \"C\", \"C\"], None),\n",
    "    \"B\": Node(\"B\", None, [\"D\", \"A\"], None),\n",
    "    \"C\": Node(\"C\", None, [\"A\", \"F\", \"G\"], None),\n",
    "    \"D\": Node(\"D\", None, [\"B\", \"E\"], None),\n",
    "    \"E\": Node(\"E\", None, [\"D\", \"A\"], None),\n",
    "    \"G\": Node(\"G\", None, [\"C\"], None),\n",
    "    \"F\": Node(\"F\", None, [\"C\"], None),\n",
    "}\n"
   ]
  },
  {
   "cell_type": "markdown",
   "metadata": {},
   "source": [
    "Graph 2:"
   ]
  },
  {
   "cell_type": "code",
   "execution_count": 43,
   "metadata": {},
   "outputs": [],
   "source": [
    "graph2 = {\n",
    "    \"S\" : Node(\"S\", None, [], None),\n",
    "    \"p\" : Node(\"p\", None, [], None),\n",
    "    \"q\" : Node(\"q\", None, [], None),\n",
    "    \"r\" : Node(\"r\", None, [], None),\n",
    "    \"a\" : Node(\"a\", None, [], None),\n",
    "    \"b\" : Node(\"b\", None, [], None),\n",
    "    \"c\" : Node(\"c\", None, [], None),\n",
    "    \"d\" : Node(\"d\", None, [], None),\n",
    "    \"e\" : Node(\"e\", None, [], None),\n",
    "    \"f\" : Node(\"f\", None, [], None),\n",
    "    \"h\" : Node(\"h\", None, [], None),\n",
    "    \"G\" : Node(\"G\", None, [], None),\n",
    "}"
   ]
  },
  {
   "cell_type": "markdown",
   "metadata": {},
   "source": [
    "Graph 3:"
   ]
  },
  {
   "cell_type": "code",
   "execution_count": 44,
   "metadata": {},
   "outputs": [],
   "source": [
    "romania = {\n",
    "    \"Arad\": Node(\"Arad\", None, [\"Zerind\", \"Sibiu\", \"Timisoara\"], None),\n",
    "    \"Zerind\": Node(\"Zerind\", None, [\"Arad\", \"Oradea\"], None),\n",
    "    \"Oradea\": Node(\"Oradea\", None, [\"Zerind\", \"Sibiu\"], None),\n",
    "    \"Sibiu\": Node(\"Sibiu\", None, [\"Arad\", \"Oradea\", \"Fagaras\", \"Rimnicu Vilcea\"], None),\n",
    "    \"Timisoara\": Node(\"Timisoara\", None, [\"Arad\", \"Lugoj\"], None),\n",
    "    \"Lugoj\": Node(\"Lugoj\", None, [\"Timisoara\", \"Mehadia\"], None),\n",
    "    \"Mehadia\": Node(\"Mehadia\", None, [\"Lugoj\", \"Drobeta\"], None),\n",
    "    \"Drobeta\": Node(\"Drobeta\", None, [\"Mehadia\", \"Craiova\"], None),\n",
    "    \"Craiova\": Node(\"Craiova\", None, [\"Drobeta\", \"Rimnicu Vilcea\", \"Pitesti\"], None),\n",
    "    \"Rimnicu Vilcea\": Node(\"Rimnicu Vilcea\", None, [\"Sibiu\", \"Craiova\", \"Pitesti\"], None),\n",
    "    \"Fagaras\": Node(\"Fagaras\", None, [\"Sibiu\", \"Bucharest\"], None),\n",
    "    \"Pitesti\": Node(\"Pitesti\", None, [\"Rimnicu Vilcea\", \"Craiova\", \"Bucharest\"], None),\n",
    "    \"Bucharest\": Node(\"Bucharest\", None, [\"Fagaras\", \"Pitesti\", \"Giurgiu\", \"Urziceni\"], None),\n",
    "    \"Giurgiu\": Node(\"Giurgiu\", None, [\"Bucharest\"], None),\n",
    "    \"Urziceni\": Node(\"Urziceni\", None, [\"Bucharest\", \"Hirsova\", \"Vaslui\"], None),\n",
    "    \"Hirsova\": Node(\"Hirsova\", None, [\"Urziceni\", \"Eforie\"], None),\n",
    "    \"Eforie\": Node(\"Eforie\", None, [\"Hirsova\"], None),\n",
    "    \"Vaslui\": Node(\"Vaslui\", None, [\"Urziceni\", \"Iasi\"], None),\n",
    "    \"Iasi\": Node(\"Iasi\", None, [\"Vaslui\", \"Neamt\"], None),\n",
    "    \"Neamt\": Node(\"Neamt\", None, [\"Iasi\"], None),\n",
    "}\n"
   ]
  },
  {
   "cell_type": "markdown",
   "metadata": {},
   "source": [
    "## Task 3: Implementing BFS\n",
    "\n",
    "Implement BFS algorithm for the graphs created in Task 2. The algorithm should take the graph and the starting node as input and return the path from the starting node to the goal node. The path should be a list of node names."
   ]
  },
  {
   "cell_type": "code",
   "execution_count": 45,
   "metadata": {},
   "outputs": [],
   "source": [
    "def BFS(graph, start, goal):\n",
    "    queue = []\n",
    "    visited = []\n",
    "    queue.append(start)\n",
    "    visited.append(start)\n",
    "    path = []\n",
    "    while queue:\n",
    "        current = queue.pop(0)\n",
    "        path.append(current)\n",
    "        if current == goal:\n",
    "            return path\n",
    "        for neighbor in graph[current].actions:\n",
    "            if neighbor not in visited:\n",
    "                queue.append(neighbor)\n",
    "                visited.append(neighbor)\n",
    "    return path"
   ]
  },
  {
   "cell_type": "markdown",
   "metadata": {},
   "source": [
    "Other Implementations of BFS:\n"
   ]
  },
  {
   "cell_type": "code",
   "execution_count": 46,
   "metadata": {},
   "outputs": [],
   "source": [
    "def BFS2(graph, start, goal):\n",
    "    queue = []\n",
    "    visited = []\n",
    "    queue.append(start)\n",
    "    visited.append(start)\n",
    "\n",
    "    while queue:\n",
    "        current = queue.pop(0)\n",
    "        if current == goal:\n",
    "            return actionSequence(graph, start, goal)  # Change to start here\n",
    "        for neighbor in graph[current].actions:\n",
    "            if neighbor not in visited:\n",
    "                queue.append(neighbor)\n",
    "                visited.append(neighbor)\n",
    "                graph[neighbor].parent = current\n",
    "\n",
    "\n",
    "def actionSequence(graph, start, goal):\n",
    "    solution = [goal]\n",
    "    current = goal\n",
    "    while current != start:\n",
    "        currentParent = graph[current].parent\n",
    "        solution.append(currentParent)\n",
    "        current = currentParent\n",
    "    solution.reverse()\n",
    "    return solution"
   ]
  },
  {
   "cell_type": "markdown",
   "metadata": {},
   "source": [
    "## Task 4: Testing BFS\n",
    "\n",
    "Test BFS algorithm with the graphs created in Task 2. Print the path returned by the algorithm."
   ]
  },
  {
   "cell_type": "markdown",
   "metadata": {},
   "source": [
    "Graph 1:"
   ]
  },
  {
   "cell_type": "code",
   "execution_count": 52,
   "metadata": {},
   "outputs": [
    {
     "name": "stdout",
     "output_type": "stream",
     "text": [
      "['D', 'B', 'E', 'A', 'C', 'F']\n",
      "['D', 'B', 'A', 'C', 'F']\n",
      "['D', 'B', 'A', 'C', 'F']\n"
     ]
    }
   ],
   "source": [
    "print(BFS(graph1, \"D\", \"F\"))\n",
    "print(BFS2(graph1, \"D\", \"F\"))\n",
    "print(actionSequence(graph1, \"D\", \"F\"))"
   ]
  },
  {
   "cell_type": "markdown",
   "metadata": {},
   "source": [
    "Graph 2:"
   ]
  },
  {
   "cell_type": "code",
   "execution_count": 54,
   "metadata": {},
   "outputs": [
    {
     "ename": "KeyError",
     "evalue": "'S'",
     "output_type": "error",
     "traceback": [
      "\u001b[1;31m---------------------------------------------------------------------------\u001b[0m",
      "\u001b[1;31mKeyError\u001b[0m                                  Traceback (most recent call last)",
      "\u001b[1;32mc:\\Users\\LENOVO\\Repos\\AI-Algorithms-Python\\LAB_04\\main.ipynb Cell 19\u001b[0m line \u001b[0;36m1\n\u001b[1;32m----> <a href='vscode-notebook-cell:/c%3A/Users/LENOVO/Repos/AI-Algorithms-Python/LAB_04/main.ipynb#X31sZmlsZQ%3D%3D?line=0'>1</a>\u001b[0m \u001b[39mprint\u001b[39m(BFS(graph2, \u001b[39m\"\u001b[39;49m\u001b[39mS\u001b[39;49m\u001b[39m\"\u001b[39;49m, \u001b[39m\"\u001b[39;49m\u001b[39mG\u001b[39;49m\u001b[39m\"\u001b[39;49m))\n\u001b[0;32m      <a href='vscode-notebook-cell:/c%3A/Users/LENOVO/Repos/AI-Algorithms-Python/LAB_04/main.ipynb#X31sZmlsZQ%3D%3D?line=1'>2</a>\u001b[0m \u001b[39mprint\u001b[39m(BFS2(graph2, \u001b[39m\"\u001b[39m\u001b[39mS\u001b[39m\u001b[39m\"\u001b[39m, \u001b[39m\"\u001b[39m\u001b[39mG\u001b[39m\u001b[39m\"\u001b[39m))\n\u001b[0;32m      <a href='vscode-notebook-cell:/c%3A/Users/LENOVO/Repos/AI-Algorithms-Python/LAB_04/main.ipynb#X31sZmlsZQ%3D%3D?line=2'>3</a>\u001b[0m \u001b[39mprint\u001b[39m(actionSequence(graph2, \u001b[39m\"\u001b[39m\u001b[39mS\u001b[39m\u001b[39m\"\u001b[39m, \u001b[39m\"\u001b[39m\u001b[39mG\u001b[39m\u001b[39m\"\u001b[39m))\n",
      "\u001b[1;32mc:\\Users\\LENOVO\\Repos\\AI-Algorithms-Python\\LAB_04\\main.ipynb Cell 19\u001b[0m line \u001b[0;36m1\n\u001b[0;32m     <a href='vscode-notebook-cell:/c%3A/Users/LENOVO/Repos/AI-Algorithms-Python/LAB_04/main.ipynb#X31sZmlsZQ%3D%3D?line=9'>10</a>\u001b[0m \u001b[39mif\u001b[39;00m current \u001b[39m==\u001b[39m goal:\n\u001b[0;32m     <a href='vscode-notebook-cell:/c%3A/Users/LENOVO/Repos/AI-Algorithms-Python/LAB_04/main.ipynb#X31sZmlsZQ%3D%3D?line=10'>11</a>\u001b[0m     \u001b[39mreturn\u001b[39;00m path\n\u001b[1;32m---> <a href='vscode-notebook-cell:/c%3A/Users/LENOVO/Repos/AI-Algorithms-Python/LAB_04/main.ipynb#X31sZmlsZQ%3D%3D?line=11'>12</a>\u001b[0m \u001b[39mfor\u001b[39;00m neighbor \u001b[39min\u001b[39;00m graph[current]\u001b[39m.\u001b[39mactions:\n\u001b[0;32m     <a href='vscode-notebook-cell:/c%3A/Users/LENOVO/Repos/AI-Algorithms-Python/LAB_04/main.ipynb#X31sZmlsZQ%3D%3D?line=12'>13</a>\u001b[0m     \u001b[39mif\u001b[39;00m neighbor \u001b[39mnot\u001b[39;00m \u001b[39min\u001b[39;00m visited:\n\u001b[0;32m     <a href='vscode-notebook-cell:/c%3A/Users/LENOVO/Repos/AI-Algorithms-Python/LAB_04/main.ipynb#X31sZmlsZQ%3D%3D?line=13'>14</a>\u001b[0m         queue\u001b[39m.\u001b[39mappend(neighbor)\n",
      "\u001b[1;31mKeyError\u001b[0m: 'S'"
     ]
    }
   ],
   "source": [
    "print(BFS(graph2, \"S\", \"G\"))\n",
    "print(BFS2(graph2, \"S\", \"G\"))\n",
    "print(actionSequence(graph2, \"S\", \"G\"))"
   ]
  },
  {
   "cell_type": "markdown",
   "metadata": {},
   "source": [
    "Graph 3:"
   ]
  },
  {
   "cell_type": "code",
   "execution_count": 53,
   "metadata": {},
   "outputs": [
    {
     "name": "stdout",
     "output_type": "stream",
     "text": [
      "['Arad', 'Zerind', 'Sibiu', 'Timisoara', 'Oradea', 'Fagaras', 'Rimnicu Vilcea', 'Lugoj', 'Bucharest']\n",
      "['Arad', 'Sibiu', 'Fagaras', 'Bucharest']\n",
      "['Arad', 'Sibiu', 'Fagaras', 'Bucharest']\n"
     ]
    }
   ],
   "source": [
    "print(BFS(romania, \"Arad\", \"Bucharest\"))\n",
    "print(BFS2(romania, \"Arad\", \"Bucharest\"))\n",
    "print(actionSequence(romania, \"Arad\", \"Bucharest\"))"
   ]
  },
  {
   "cell_type": "markdown",
   "metadata": {},
   "source": [
    "## Task 5: Implementing DFS\n",
    "\n",
    "Implement DFS algorithm for the graphs created in Task 2. The algorithm should take the graph and the starting node as input and return the path from the starting node to the goal node. The path should be a list of node names."
   ]
  },
  {
   "cell_type": "code",
   "execution_count": 56,
   "metadata": {},
   "outputs": [],
   "source": [
    "def DFS(graph, start, goal):\n",
    "    stack = []\n",
    "    visited = []\n",
    "    stack.append(start)\n",
    "    visited.append(start)\n",
    "    path = []\n",
    "\n",
    "    while stack:\n",
    "        current = stack.pop()\n",
    "        path.append(current)\n",
    "\n",
    "        if current == goal:\n",
    "            return path\n",
    "\n",
    "        for neighbor in graph[current].actions:\n",
    "            if neighbor not in visited:\n",
    "                stack.append(neighbor)\n",
    "                visited.append(neighbor)\n",
    "                graph[neighbor].parent = current\n",
    "\n",
    "    return path"
   ]
  },
  {
   "cell_type": "markdown",
   "metadata": {},
   "source": [
    "## Task 6: Testing DFS\n",
    "\n",
    "Test DFS algorithm with the graphs created in Task 2. Print the path returned by the algorithm."
   ]
  },
  {
   "cell_type": "code",
   "execution_count": 57,
   "metadata": {},
   "outputs": [
    {
     "name": "stdout",
     "output_type": "stream",
     "text": [
      "['D', 'E', 'A', 'C', 'G', 'F']\n",
      "['Arad', 'Timisoara', 'Lugoj', 'Mehadia', 'Drobeta', 'Craiova', 'Pitesti', 'Bucharest']\n"
     ]
    }
   ],
   "source": [
    "print(DFS(graph1, \"D\", \"F\"))\n",
    "# print(DFS(graph2, \"S\", \"G\"))\n",
    "print(DFS(romania, \"Arad\", \"Bucharest\"))"
   ]
  }
 ],
 "metadata": {
  "kernelspec": {
   "display_name": "Python 3",
   "language": "python",
   "name": "python3"
  },
  "language_info": {
   "codemirror_mode": {
    "name": "ipython",
    "version": 3
   },
   "file_extension": ".py",
   "mimetype": "text/x-python",
   "name": "python",
   "nbconvert_exporter": "python",
   "pygments_lexer": "ipython3",
   "version": "3.11.5"
  },
  "orig_nbformat": 4
 },
 "nbformat": 4,
 "nbformat_minor": 2
}
