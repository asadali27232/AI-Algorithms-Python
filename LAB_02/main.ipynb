{
 "cells": [
  {
   "cell_type": "markdown",
   "metadata": {},
   "source": [
    "# LAB 02: Advance Python"
   ]
  },
  {
   "cell_type": "markdown",
   "metadata": {},
   "source": [
    "## Task 1: Loops and Lists\n",
    "\n",
    "Use loops to accept 5 random values inputs from the user and store them in a list. Then, print the list.\n",
    "\n"
   ]
  },
  {
   "cell_type": "code",
   "execution_count": 3,
   "metadata": {},
   "outputs": [
    {
     "name": "stdout",
     "output_type": "stream",
     "text": [
      "The list is: ['5', 'Asad Ali', '22', '2001', '2023']\n"
     ]
    }
   ],
   "source": [
    "my_list = []\n",
    "\n",
    "for i in range(5):\n",
    "    my_list.append(input(\"Enter any value: \"))\n",
    "\n",
    "print(\"The given list is: \", end=\"\")\n",
    "print(my_list)"
   ]
  },
  {
   "cell_type": "markdown",
   "metadata": {},
   "source": [
    "## Task 2: Loops and Lists\n",
    "\n",
    "Use loops to accept 5 number inputs from the user and store them in a list. Then, print the sum of value sin the list.\n"
   ]
  },
  {
   "cell_type": "code",
   "execution_count": 5,
   "metadata": {},
   "outputs": [
    {
     "name": "stdout",
     "output_type": "stream",
     "text": [
      "The given list is: ['5', '5', '5', '8', '5']\n",
      "The sum of all the elements in the list is: 28\n"
     ]
    }
   ],
   "source": [
    "my_list = []\n",
    "\n",
    "for i in range(5):\n",
    "    my_list.append(input(\"Enter any value: \"))\n",
    "\n",
    "print(\"The given list is: \", end=\"\")\n",
    "print(my_list)\n",
    "\n",
    "sum = 0\n",
    "for i in my_list:\n",
    "    sum += int(i)\n",
    "\n",
    "print(\"The sum of all the elements in the list is: \", end=\"\")\n",
    "print(sum)"
   ]
  },
  {
   "cell_type": "markdown",
   "metadata": {},
   "source": [
    "## Task 3: Loops and Lists\n",
    "\n",
    "Use loops to accept 5 number inputs from the user and store them in a list. Then, print the list in acsending order.\n"
   ]
  },
  {
   "cell_type": "code",
   "execution_count": 6,
   "metadata": {},
   "outputs": [
    {
     "name": "stdout",
     "output_type": "stream",
     "text": [
      "The given list in ascending order is: ['1', '5', '7', '8', '9']\n"
     ]
    }
   ],
   "source": [
    "my_list = []\n",
    "\n",
    "for i in range(5):\n",
    "    my_list.append(input(\"Enter any value: \"))\n",
    "\n",
    "print(\"The given list in ascending order is: \", end=\"\")\n",
    "my_list.sort()\n",
    "print(my_list)"
   ]
  },
  {
   "cell_type": "markdown",
   "metadata": {},
   "source": [
    "## Task 4: Loops and Lists\n",
    "\n",
    "Accept two lists of 5 numbers each from the user. Then, join the two lists.\n"
   ]
  },
  {
   "cell_type": "code",
   "execution_count": 10,
   "metadata": {},
   "outputs": [
    {
     "name": "stdout",
     "output_type": "stream",
     "text": [
      "The given lists are: \n",
      "['8', '5', '8', '2', '4']\n",
      "['7', '3', '6', '5', '8']\n",
      "The concatenated list is: ['8', '5', '8', '2', '4', '7', '3', '6', '5', '8']\n"
     ]
    }
   ],
   "source": [
    "list1 = [input(\"Enter any value: \") for i in range(5)]\n",
    "list2 = [input(\"Enter any value: \") for i in range(5)]\n",
    "\n",
    "print(\"The given lists are: \")\n",
    "print(list1, list2, sep=\"\\n\")\n",
    "\n",
    "list3 = list1 + list2\n",
    "print(\"The concatenated list is: \", end=\"\")\n",
    "print(list3)"
   ]
  },
  {
   "cell_type": "markdown",
   "metadata": {},
   "source": [
    "## Task 5: Search in a List\n",
    "\n",
    "Accept a list of 5 numbers from the user. Then, accept a number from the user and search it in the list. If the number is found, print its index. Otherwise, print \"Not Found\".\n"
   ]
  },
  {
   "cell_type": "code",
   "execution_count": 11,
   "metadata": {},
   "outputs": [
    {
     "name": "stdout",
     "output_type": "stream",
     "text": [
      "The given list is: ['5', '8', '5', '6', '5', '8', '9', '5', '6', '5']\n",
      "The number is not present in the list.\n"
     ]
    }
   ],
   "source": [
    "list = [input(\"Enter any value: \") for i in range(10)]\n",
    "print(\"The given list is: \", end=\"\")\n",
    "print(list)\n",
    "\n",
    "num = int(input(\"Enter the number to be searched: \"))\n",
    "\n",
    "if num in list:\n",
    "    print(f\"The number {num} is present in the list.\")\n",
    "else:\n",
    "    print(f\"The number {num} is not present in the list.\")"
   ]
  },
  {
   "cell_type": "markdown",
   "metadata": {},
   "source": [
    "## Task 6: Functions\n",
    "\n",
    "Write a function that takes a person's name as an argument and returns a greeting message.\n"
   ]
  },
  {
   "cell_type": "code",
   "execution_count": 12,
   "metadata": {},
   "outputs": [
    {
     "name": "stdout",
     "output_type": "stream",
     "text": [
      "Hello Asad Ali, have a nice day!\n",
      "Hello Asad ur Rehaman, have a nice day!\n",
      "Hello Haroon, have a nice day!\n"
     ]
    }
   ],
   "source": [
    "def greetings(name):\n",
    "    print(f\"Hello {name}, have a nice day!\")\n",
    "\n",
    "\n",
    "greetings(\"Asad Ali\")\n",
    "greetings(\"Asad ur Rehaman\")\n",
    "greetings(\"Haroon\")"
   ]
  },
  {
   "cell_type": "markdown",
   "metadata": {},
   "source": [
    "## Task 7: Palindrome\n",
    "\n",
    "Write a function that takes a string as an argument and returns True if the string is a palindrome. Otherwise, return False.\n"
   ]
  },
  {
   "cell_type": "code",
   "execution_count": 17,
   "metadata": {},
   "outputs": [
    {
     "name": "stdout",
     "output_type": "stream",
     "text": [
      "True\n",
      "False\n",
      "True\n"
     ]
    }
   ],
   "source": [
    "def palindrome(string):\n",
    "    string = string.lower()\n",
    "\n",
    "    if string == string[::-1]:\n",
    "        return True\n",
    "    else:\n",
    "        return False\n",
    "\n",
    "\n",
    "print(palindrome(\"madam\"))\n",
    "print(palindrome(\"hello\"))\n",
    "print(palindrome(\"woW\"))"
   ]
  },
  {
   "cell_type": "markdown",
   "metadata": {},
   "source": [
    "## Task 8: 2D-Lists\n",
    "\n",
    "Given a 3x3 matrix as 2d-Lists, print its multiplication matrix.\n"
   ]
  },
  {
   "cell_type": "code",
   "execution_count": 20,
   "metadata": {},
   "outputs": [
    {
     "name": "stdout",
     "output_type": "stream",
     "text": [
      "The resultant matrix is: \n",
      "[1, 2, 3]\n",
      "[4, 5, 6]\n",
      "[7, 8, 9]\n"
     ]
    }
   ],
   "source": [
    "a = [[1, 0, 0], [0, 1, 0], [0, 0, 1]]\n",
    "b = [[1, 2, 3], [4, 5, 6], [7, 8, 9]]\n",
    "\n",
    "result = [[0, 0, 0], [0, 0, 0], [0, 0, 0]]\n",
    "\n",
    "for i in range(len(a)):\n",
    "    for j in range(len(a[0])):\n",
    "        for k in range(len(b)):\n",
    "            result[i][j] += a[i][k] * b[k][j]\n",
    "\n",
    "print(\"The resultant matrix is: \")\n",
    "for r in result:\n",
    "    print(r)"
   ]
  }
 ],
 "metadata": {
  "kernelspec": {
   "display_name": "Python 3",
   "language": "python",
   "name": "python3"
  },
  "language_info": {
   "codemirror_mode": {
    "name": "ipython",
    "version": 3
   },
   "file_extension": ".py",
   "mimetype": "text/x-python",
   "name": "python",
   "nbconvert_exporter": "python",
   "pygments_lexer": "ipython3",
   "version": "3.11.4"
  },
  "orig_nbformat": 4
 },
 "nbformat": 4,
 "nbformat_minor": 2
}
